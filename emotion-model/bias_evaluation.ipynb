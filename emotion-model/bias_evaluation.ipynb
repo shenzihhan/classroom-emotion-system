{
  "nbformat": 4,
  "nbformat_minor": 0,
  "metadata": {
    "colab": {
      "provenance": [],
      "gpuType": "T4"
    },
    "kernelspec": {
      "name": "python3",
      "display_name": "Python 3"
    },
    "language_info": {
      "name": "python"
    },
    "accelerator": "GPU"
  },
  "cells": [
    {
      "cell_type": "code",
      "source": [
        "!pip install deepface"
      ],
      "metadata": {
        "colab": {
          "base_uri": "https://localhost:8080/"
        },
        "id": "Jy5AIVAgcDlX",
        "outputId": "28601898-dd69-4be3-f05b-7e5df4544144"
      },
      "execution_count": null,
      "outputs": [
        {
          "output_type": "stream",
          "name": "stdout",
          "text": [
            "Requirement already satisfied: deepface in /usr/local/lib/python3.11/dist-packages (0.0.93)\n",
            "Requirement already satisfied: requests>=2.27.1 in /usr/local/lib/python3.11/dist-packages (from deepface) (2.32.3)\n",
            "Requirement already satisfied: numpy>=1.14.0 in /usr/local/lib/python3.11/dist-packages (from deepface) (2.0.2)\n",
            "Requirement already satisfied: pandas>=0.23.4 in /usr/local/lib/python3.11/dist-packages (from deepface) (2.2.2)\n",
            "Requirement already satisfied: gdown>=3.10.1 in /usr/local/lib/python3.11/dist-packages (from deepface) (5.2.0)\n",
            "Requirement already satisfied: tqdm>=4.30.0 in /usr/local/lib/python3.11/dist-packages (from deepface) (4.67.1)\n",
            "Requirement already satisfied: Pillow>=5.2.0 in /usr/local/lib/python3.11/dist-packages (from deepface) (11.1.0)\n",
            "Requirement already satisfied: opencv-python>=4.5.5.64 in /usr/local/lib/python3.11/dist-packages (from deepface) (4.11.0.86)\n",
            "Requirement already satisfied: tensorflow>=1.9.0 in /usr/local/lib/python3.11/dist-packages (from deepface) (2.18.0)\n",
            "Requirement already satisfied: keras>=2.2.0 in /usr/local/lib/python3.11/dist-packages (from deepface) (3.8.0)\n",
            "Requirement already satisfied: Flask>=1.1.2 in /usr/local/lib/python3.11/dist-packages (from deepface) (3.1.0)\n",
            "Requirement already satisfied: flask-cors>=4.0.1 in /usr/local/lib/python3.11/dist-packages (from deepface) (5.0.1)\n",
            "Requirement already satisfied: mtcnn>=0.1.0 in /usr/local/lib/python3.11/dist-packages (from deepface) (1.0.0)\n",
            "Requirement already satisfied: retina-face>=0.0.1 in /usr/local/lib/python3.11/dist-packages (from deepface) (0.0.17)\n",
            "Requirement already satisfied: fire>=0.4.0 in /usr/local/lib/python3.11/dist-packages (from deepface) (0.7.0)\n",
            "Requirement already satisfied: gunicorn>=20.1.0 in /usr/local/lib/python3.11/dist-packages (from deepface) (23.0.0)\n",
            "Requirement already satisfied: termcolor in /usr/local/lib/python3.11/dist-packages (from fire>=0.4.0->deepface) (3.0.1)\n",
            "Requirement already satisfied: Werkzeug>=3.1 in /usr/local/lib/python3.11/dist-packages (from Flask>=1.1.2->deepface) (3.1.3)\n",
            "Requirement already satisfied: Jinja2>=3.1.2 in /usr/local/lib/python3.11/dist-packages (from Flask>=1.1.2->deepface) (3.1.6)\n",
            "Requirement already satisfied: itsdangerous>=2.2 in /usr/local/lib/python3.11/dist-packages (from Flask>=1.1.2->deepface) (2.2.0)\n",
            "Requirement already satisfied: click>=8.1.3 in /usr/local/lib/python3.11/dist-packages (from Flask>=1.1.2->deepface) (8.1.8)\n",
            "Requirement already satisfied: blinker>=1.9 in /usr/local/lib/python3.11/dist-packages (from Flask>=1.1.2->deepface) (1.9.0)\n",
            "Requirement already satisfied: beautifulsoup4 in /usr/local/lib/python3.11/dist-packages (from gdown>=3.10.1->deepface) (4.13.4)\n",
            "Requirement already satisfied: filelock in /usr/local/lib/python3.11/dist-packages (from gdown>=3.10.1->deepface) (3.18.0)\n",
            "Requirement already satisfied: packaging in /usr/local/lib/python3.11/dist-packages (from gunicorn>=20.1.0->deepface) (24.2)\n",
            "Requirement already satisfied: absl-py in /usr/local/lib/python3.11/dist-packages (from keras>=2.2.0->deepface) (1.4.0)\n",
            "Requirement already satisfied: rich in /usr/local/lib/python3.11/dist-packages (from keras>=2.2.0->deepface) (13.9.4)\n",
            "Requirement already satisfied: namex in /usr/local/lib/python3.11/dist-packages (from keras>=2.2.0->deepface) (0.0.9)\n",
            "Requirement already satisfied: h5py in /usr/local/lib/python3.11/dist-packages (from keras>=2.2.0->deepface) (3.13.0)\n",
            "Requirement already satisfied: optree in /usr/local/lib/python3.11/dist-packages (from keras>=2.2.0->deepface) (0.15.0)\n",
            "Requirement already satisfied: ml-dtypes in /usr/local/lib/python3.11/dist-packages (from keras>=2.2.0->deepface) (0.4.1)\n",
            "Requirement already satisfied: joblib>=1.4.2 in /usr/local/lib/python3.11/dist-packages (from mtcnn>=0.1.0->deepface) (1.4.2)\n",
            "Requirement already satisfied: lz4>=4.3.3 in /usr/local/lib/python3.11/dist-packages (from mtcnn>=0.1.0->deepface) (4.4.4)\n",
            "Requirement already satisfied: python-dateutil>=2.8.2 in /usr/local/lib/python3.11/dist-packages (from pandas>=0.23.4->deepface) (2.8.2)\n",
            "Requirement already satisfied: pytz>=2020.1 in /usr/local/lib/python3.11/dist-packages (from pandas>=0.23.4->deepface) (2025.2)\n",
            "Requirement already satisfied: tzdata>=2022.7 in /usr/local/lib/python3.11/dist-packages (from pandas>=0.23.4->deepface) (2025.2)\n",
            "Requirement already satisfied: charset-normalizer<4,>=2 in /usr/local/lib/python3.11/dist-packages (from requests>=2.27.1->deepface) (3.4.1)\n",
            "Requirement already satisfied: idna<4,>=2.5 in /usr/local/lib/python3.11/dist-packages (from requests>=2.27.1->deepface) (3.10)\n",
            "Requirement already satisfied: urllib3<3,>=1.21.1 in /usr/local/lib/python3.11/dist-packages (from requests>=2.27.1->deepface) (2.3.0)\n",
            "Requirement already satisfied: certifi>=2017.4.17 in /usr/local/lib/python3.11/dist-packages (from requests>=2.27.1->deepface) (2025.1.31)\n",
            "Requirement already satisfied: astunparse>=1.6.0 in /usr/local/lib/python3.11/dist-packages (from tensorflow>=1.9.0->deepface) (1.6.3)\n",
            "Requirement already satisfied: flatbuffers>=24.3.25 in /usr/local/lib/python3.11/dist-packages (from tensorflow>=1.9.0->deepface) (25.2.10)\n",
            "Requirement already satisfied: gast!=0.5.0,!=0.5.1,!=0.5.2,>=0.2.1 in /usr/local/lib/python3.11/dist-packages (from tensorflow>=1.9.0->deepface) (0.6.0)\n",
            "Requirement already satisfied: google-pasta>=0.1.1 in /usr/local/lib/python3.11/dist-packages (from tensorflow>=1.9.0->deepface) (0.2.0)\n",
            "Requirement already satisfied: libclang>=13.0.0 in /usr/local/lib/python3.11/dist-packages (from tensorflow>=1.9.0->deepface) (18.1.1)\n",
            "Requirement already satisfied: opt-einsum>=2.3.2 in /usr/local/lib/python3.11/dist-packages (from tensorflow>=1.9.0->deepface) (3.4.0)\n",
            "Requirement already satisfied: protobuf!=4.21.0,!=4.21.1,!=4.21.2,!=4.21.3,!=4.21.4,!=4.21.5,<6.0.0dev,>=3.20.3 in /usr/local/lib/python3.11/dist-packages (from tensorflow>=1.9.0->deepface) (5.29.4)\n",
            "Requirement already satisfied: setuptools in /usr/local/lib/python3.11/dist-packages (from tensorflow>=1.9.0->deepface) (75.2.0)\n",
            "Requirement already satisfied: six>=1.12.0 in /usr/local/lib/python3.11/dist-packages (from tensorflow>=1.9.0->deepface) (1.17.0)\n",
            "Requirement already satisfied: typing-extensions>=3.6.6 in /usr/local/lib/python3.11/dist-packages (from tensorflow>=1.9.0->deepface) (4.13.2)\n",
            "Requirement already satisfied: wrapt>=1.11.0 in /usr/local/lib/python3.11/dist-packages (from tensorflow>=1.9.0->deepface) (1.17.2)\n",
            "Requirement already satisfied: grpcio<2.0,>=1.24.3 in /usr/local/lib/python3.11/dist-packages (from tensorflow>=1.9.0->deepface) (1.71.0)\n",
            "Requirement already satisfied: tensorboard<2.19,>=2.18 in /usr/local/lib/python3.11/dist-packages (from tensorflow>=1.9.0->deepface) (2.18.0)\n",
            "Requirement already satisfied: tensorflow-io-gcs-filesystem>=0.23.1 in /usr/local/lib/python3.11/dist-packages (from tensorflow>=1.9.0->deepface) (0.37.1)\n",
            "Requirement already satisfied: wheel<1.0,>=0.23.0 in /usr/local/lib/python3.11/dist-packages (from astunparse>=1.6.0->tensorflow>=1.9.0->deepface) (0.45.1)\n",
            "Requirement already satisfied: MarkupSafe>=2.0 in /usr/local/lib/python3.11/dist-packages (from Jinja2>=3.1.2->Flask>=1.1.2->deepface) (3.0.2)\n",
            "Requirement already satisfied: markdown>=2.6.8 in /usr/local/lib/python3.11/dist-packages (from tensorboard<2.19,>=2.18->tensorflow>=1.9.0->deepface) (3.8)\n",
            "Requirement already satisfied: tensorboard-data-server<0.8.0,>=0.7.0 in /usr/local/lib/python3.11/dist-packages (from tensorboard<2.19,>=2.18->tensorflow>=1.9.0->deepface) (0.7.2)\n",
            "Requirement already satisfied: soupsieve>1.2 in /usr/local/lib/python3.11/dist-packages (from beautifulsoup4->gdown>=3.10.1->deepface) (2.7)\n",
            "Requirement already satisfied: PySocks!=1.5.7,>=1.5.6 in /usr/local/lib/python3.11/dist-packages (from requests[socks]->gdown>=3.10.1->deepface) (1.7.1)\n",
            "Requirement already satisfied: markdown-it-py>=2.2.0 in /usr/local/lib/python3.11/dist-packages (from rich->keras>=2.2.0->deepface) (3.0.0)\n",
            "Requirement already satisfied: pygments<3.0.0,>=2.13.0 in /usr/local/lib/python3.11/dist-packages (from rich->keras>=2.2.0->deepface) (2.18.0)\n",
            "Requirement already satisfied: mdurl~=0.1 in /usr/local/lib/python3.11/dist-packages (from markdown-it-py>=2.2.0->rich->keras>=2.2.0->deepface) (0.1.2)\n"
          ]
        }
      ]
    },
    {
      "source": [
        "import os\n",
        "from deepface import DeepFace\n",
        "import pandas as pd\n",
        "import matplotlib.pyplot as plt\n",
        "import seaborn as sns\n",
        "\n",
        "# 設定資料夾\n",
        "root_folder = './'  # 因為你的caucasian, asian, black在根目錄\n",
        "groups = ['caucasian', 'asian', 'black']\n",
        "emotions = ['happy', 'sad', 'angry']\n",
        "\n",
        "# 儲存結果\n",
        "results = []\n",
        "\n",
        "# DeepFace 預測每張圖\n",
        "for group in groups:\n",
        "    folder = os.path.join(root_folder, group)\n",
        "    for file in os.listdir(folder):\n",
        "        if file.endswith('.jpg') or file.endswith('.png'):\n",
        "            filepath = os.path.join(folder, file)\n",
        "\n",
        "            # 預測情緒\n",
        "            try:\n",
        "                obj = DeepFace.analyze(img_path=filepath, actions=['emotion'], enforce_detection=False)\n",
        "\n",
        "                # 注意新版DeepFace回傳是list\n",
        "                pred = obj[0]['dominant_emotion'].lower()\n",
        "\n",
        "                # 根據檔名推測 true label\n",
        "                true_label = None\n",
        "                for emo in emotions:\n",
        "                    if emo in file.lower():\n",
        "                        true_label = emo\n",
        "                        break\n",
        "\n",
        "                if true_label is not None:\n",
        "                    results.append({\n",
        "                        'group': group,\n",
        "                        'true_emotion': true_label,\n",
        "                        'predicted_emotion': pred\n",
        "                    })\n",
        "            except Exception as e:\n",
        "                print(f\"Error processing {filepath}: {e}\")\n",
        "\n",
        "# 整理成 DataFrame\n",
        "df = pd.DataFrame(results)\n",
        "\n",
        "# 顯示前幾筆確認\n",
        "print(df.head())\n"
      ],
      "cell_type": "code",
      "metadata": {
        "colab": {
          "base_uri": "https://localhost:8080/"
        },
        "id": "hXpIJ58b0z7x",
        "outputId": "1290c821-e8b2-4bc0-eee5-ddaaeb8ddba2"
      },
      "execution_count": null,
      "outputs": [
        {
          "output_type": "stream",
          "name": "stdout",
          "text": [
            "25-04-27 08:13:11 - facial_expression_model_weights.h5 will be downloaded...\n"
          ]
        },
        {
          "output_type": "stream",
          "name": "stderr",
          "text": [
            "Downloading...\n",
            "From: https://github.com/serengil/deepface_models/releases/download/v1.0/facial_expression_model_weights.h5\n",
            "To: /root/.deepface/weights/facial_expression_model_weights.h5\n",
            "100%|██████████| 5.98M/5.98M [00:00<00:00, 226MB/s]\n"
          ]
        },
        {
          "output_type": "stream",
          "name": "stdout",
          "text": [
            "       group true_emotion predicted_emotion\n",
            "0  caucasian        angry          surprise\n",
            "1  caucasian        happy             happy\n",
            "2  caucasian        angry             angry\n",
            "3  caucasian        angry             angry\n",
            "4  caucasian          sad              fear\n"
          ]
        }
      ]
    },
    {
      "cell_type": "code",
      "execution_count": null,
      "metadata": {
        "id": "dyzvy2knlbUd",
        "colab": {
          "base_uri": "https://localhost:8080/",
          "height": 673
        },
        "outputId": "d8c11cf4-8892-4033-970c-f1215664dde2"
      },
      "outputs": [
        {
          "output_type": "stream",
          "name": "stdout",
          "text": [
            "各族群情緒分類準確率表格：\n",
            "true_emotion     angry     happy       sad\n",
            "group                                     \n",
            "asian         0.000000  0.800000  0.066667\n",
            "black         0.133333  0.800000  0.333333\n",
            "caucasian     0.266667  0.866667  0.266667\n"
          ]
        },
        {
          "output_type": "display_data",
          "data": {
            "text/plain": [
              "<Figure size 800x600 with 2 Axes>"
            ],
            "image/png": "[encoded data removed]"
          },
          "metadata": {}
        }
      ],
      "source": [
        "# 計算每個 group × true_emotion 的準確率\n",
        "accuracy_table = df.groupby(['group', 'true_emotion']).apply(\n",
        "    lambda x: (x['true_emotion'] == x['predicted_emotion']).mean()\n",
        ").unstack()\n",
        "\n",
        "print(\"各族群情緒分類準確率表格：\")\n",
        "print(accuracy_table)\n",
        "\n",
        "# 畫出 Heatmap\n",
        "import seaborn as sns\n",
        "import matplotlib.pyplot as plt\n",
        "\n",
        "plt.figure(figsize=(8, 6))\n",
        "sns.heatmap(accuracy_table, annot=True, cmap='coolwarm', vmin=0, vmax=1)\n",
        "plt.title('DeepFace: Emotion Detection Accuracy by Group and Emotion')\n",
        "plt.ylabel('Group')\n",
        "plt.xlabel('Emotion')\n",
        "plt.show()\n"
      ]
    },
    {
      "cell_type": "code",
      "source": [
        "import matplotlib.pyplot as plt\n",
        "\n",
        "# 計算每個 group 的總體準確率\n",
        "overall_accuracy = df.groupby('group').apply(\n",
        "    lambda x: (x['true_emotion'] == x['predicted_emotion']).mean()\n",
        ")\n",
        "\n",
        "# 畫出 bar chart\n",
        "plt.figure(figsize=(8, 6))\n",
        "bars = overall_accuracy.plot(kind='bar', color='lightblue', edgecolor='black')\n",
        "\n",
        "plt.title('DeepFace: Overall Emotion Detection Accuracy by Group')\n",
        "plt.ylabel('Accuracy')\n",
        "plt.ylim(0, 1)\n",
        "plt.xticks(rotation=0)\n",
        "plt.grid(axis='y')\n",
        "\n",
        "# 在每個 bar 上方加上數字\n",
        "for i, v in enumerate(overall_accuracy):\n",
        "    plt.text(i, v + 0.02, f'{v:.2f}', ha='center', fontweight='bold')\n",
        "\n",
        "plt.show()\n",
        "\n",
        "# 額外印出數字表格\n",
        "print(\"Overall Emotion Detection Accuracy by Group:\")\n",
        "print(overall_accuracy.round(3))\n"
      ],
      "metadata": {
        "id": "i5Aczd_RojvC",
        "colab": {
          "base_uri": "https://localhost:8080/",
          "height": 673
        },
        "outputId": "35a63121-e1e5-4938-ef66-27d8c7d61964"
      },
      "execution_count": null,
      "outputs": [
        {
          "output_type": "display_data",
          "data": {
            "text/plain": [
              "<Figure size 800x600 with 1 Axes>"
            ],
            "image/png": "[encoded data removed]"
          },
          "metadata": {}
        },
        {
          "output_type": "stream",
          "name": "stdout",
          "text": [
            "Overall Emotion Detection Accuracy by Group:\n",
            "group\n",
            "asian        0.289\n",
            "black        0.422\n",
            "caucasian    0.467\n",
            "dtype: float64\n"
          ]
        }
      ]
    },
    {
      "cell_type": "code",
      "source": [
        "import matplotlib.pyplot as plt\n",
        "\n",
        "# 計算每個 group 的總體準確率（全部情緒一起看）\n",
        "overall_accuracy = df.groupby('group').apply(\n",
        "    lambda x: (x['true_emotion'] == x['predicted_emotion']).mean()\n",
        ")\n",
        "\n",
        "# 畫出 bar chart\n",
        "plt.figure(figsize=(8, 6))\n",
        "overall_accuracy.plot(kind='bar', color='lightblue', edgecolor='black')\n",
        "plt.title('DeepFace: Overall Emotion Detection Accuracy by Group')\n",
        "plt.ylabel('Accuracy')\n",
        "plt.ylim(0, 1)\n",
        "plt.xticks(rotation=0)\n",
        "plt.grid(axis='y')\n",
        "plt.show()\n"
      ],
      "metadata": {
        "id": "C82ORMfVueFC",
        "colab": {
          "base_uri": "https://localhost:8080/",
          "height": 564
        },
        "outputId": "787c5d9e-c853-4633-9f57-5931f5fd9ba7"
      },
      "execution_count": null,
      "outputs": [
        {
          "output_type": "display_data",
          "data": {
            "text/plain": [
              "<Figure size 800x600 with 1 Axes>"
            ],
            "image/png": "[encoded data removed]"
          },
          "metadata": {}
        }
      ]
    },
    {
      "cell_type": "code",
      "source": [
        "!pip install keras fer\n"
      ],
      "metadata": {
        "id": "YnJ48C5huf1z",
        "colab": {
          "base_uri": "https://localhost:8080/",
          "height": 1000
        },
        "outputId": "9bd12296-d15f-4bad-82d5-9404d3a36cef"
      },
      "execution_count": null,
      "outputs": [
        {
          "output_type": "stream",
          "name": "stdout",
          "text": [
            "Requirement already satisfied: keras in /usr/local/lib/python3.11/dist-packages (3.8.0)\n",
            "Collecting fer\n",
            "  Downloading fer-22.5.1-py3-none-any.whl.metadata (6.4 kB)\n",
            "Requirement already satisfied: absl-py in /usr/local/lib/python3.11/dist-packages (from keras) (1.4.0)\n",
            "Requirement already satisfied: numpy in /usr/local/lib/python3.11/dist-packages (from keras) (2.0.2)\n",
            "Requirement already satisfied: rich in /usr/local/lib/python3.11/dist-packages (from keras) (13.9.4)\n",
            "Requirement already satisfied: namex in /usr/local/lib/python3.11/dist-packages (from keras) (0.0.9)\n",
            "Requirement already satisfied: h5py in /usr/local/lib/python3.11/dist-packages (from keras) (3.13.0)\n",
            "Requirement already satisfied: optree in /usr/local/lib/python3.11/dist-packages (from keras) (0.15.0)\n",
            "Requirement already satisfied: ml-dtypes in /usr/local/lib/python3.11/dist-packages (from keras) (0.4.1)\n",
            "Requirement already satisfied: packaging in /usr/local/lib/python3.11/dist-packages (from keras) (24.2)\n",
            "Requirement already satisfied: matplotlib in /usr/local/lib/python3.11/dist-packages (from fer) (3.10.0)\n",
            "Requirement already satisfied: opencv-contrib-python in /usr/local/lib/python3.11/dist-packages (from fer) (4.11.0.86)\n",
            "Requirement already satisfied: pandas in /usr/local/lib/python3.11/dist-packages (from fer) (2.2.2)\n",
            "Requirement already satisfied: requests in /usr/local/lib/python3.11/dist-packages (from fer) (2.32.3)\n",
            "Collecting facenet-pytorch (from fer)\n",
            "  Downloading facenet_pytorch-2.6.0-py3-none-any.whl.metadata (12 kB)\n",
            "Requirement already satisfied: tqdm>=4.62.1 in /usr/local/lib/python3.11/dist-packages (from fer) (4.67.1)\n",
            "Requirement already satisfied: moviepy in /usr/local/lib/python3.11/dist-packages (from fer) (1.0.3)\n",
            "Collecting ffmpeg==1.4 (from fer)\n",
            "  Downloading ffmpeg-1.4.tar.gz (5.1 kB)\n",
            "  Preparing metadata (setup.py) ... \u001b[?25l\u001b[?25hdone\n",
            "Requirement already satisfied: Pillow in /usr/local/lib/python3.11/dist-packages (from fer) (11.1.0)\n",
            "Collecting numpy (from keras)\n",
            "  Downloading numpy-1.26.4-cp311-cp311-manylinux_2_17_x86_64.manylinux2014_x86_64.whl.metadata (61 kB)\n",
            "\u001b[2K     \u001b[90m━━━━━━━━━━━━━━━━━━━━━━━━━━━━━━━━━━━━━━━━\u001b[0m \u001b[32m61.0/61.0 kB\u001b[0m \u001b[31m5.5 MB/s\u001b[0m eta \u001b[36m0:00:00\u001b[0m\n",
            "\u001b[?25hCollecting Pillow (from fer)\n",
            "  Downloading pillow-10.2.0-cp311-cp311-manylinux_2_28_x86_64.whl.metadata (9.7 kB)\n",
            "Collecting torch<2.3.0,>=2.2.0 (from facenet-pytorch->fer)\n",
            "  Downloading torch-2.2.2-cp311-cp311-manylinux1_x86_64.whl.metadata (25 kB)\n",
            "Collecting torchvision<0.18.0,>=0.17.0 (from facenet-pytorch->fer)\n",
            "  Downloading torchvision-0.17.2-cp311-cp311-manylinux1_x86_64.whl.metadata (6.6 kB)\n",
            "Requirement already satisfied: charset-normalizer<4,>=2 in /usr/local/lib/python3.11/dist-packages (from requests->fer) (3.4.1)\n",
            "Requirement already satisfied: idna<4,>=2.5 in /usr/local/lib/python3.11/dist-packages (from requests->fer) (3.10)\n",
            "Requirement already satisfied: urllib3<3,>=1.21.1 in /usr/local/lib/python3.11/dist-packages (from requests->fer) (2.3.0)\n",
            "Requirement already satisfied: certifi>=2017.4.17 in /usr/local/lib/python3.11/dist-packages (from requests->fer) (2025.1.31)\n",
            "Requirement already satisfied: contourpy>=1.0.1 in /usr/local/lib/python3.11/dist-packages (from matplotlib->fer) (1.3.2)\n",
            "Requirement already satisfied: cycler>=0.10 in /usr/local/lib/python3.11/dist-packages (from matplotlib->fer) (0.12.1)\n",
            "Requirement already satisfied: fonttools>=4.22.0 in /usr/local/lib/python3.11/dist-packages (from matplotlib->fer) (4.57.0)\n",
            "Requirement already satisfied: kiwisolver>=1.3.1 in /usr/local/lib/python3.11/dist-packages (from matplotlib->fer) (1.4.8)\n",
            "Requirement already satisfied: pyparsing>=2.3.1 in /usr/local/lib/python3.11/dist-packages (from matplotlib->fer) (3.2.3)\n",
            "Requirement already satisfied: python-dateutil>=2.7 in /usr/local/lib/python3.11/dist-packages (from matplotlib->fer) (2.8.2)\n",
            "Requirement already satisfied: decorator<5.0,>=4.0.2 in /usr/local/lib/python3.11/dist-packages (from moviepy->fer) (4.4.2)\n",
            "Requirement already satisfied: proglog<=1.0.0 in /usr/local/lib/python3.11/dist-packages (from moviepy->fer) (0.1.11)\n",
            "Requirement already satisfied: imageio<3.0,>=2.5 in /usr/local/lib/python3.11/dist-packages (from moviepy->fer) (2.37.0)\n",
            "Requirement already satisfied: imageio-ffmpeg>=0.2.0 in /usr/local/lib/python3.11/dist-packages (from moviepy->fer) (0.6.0)\n",
            "Requirement already satisfied: typing-extensions>=4.5.0 in /usr/local/lib/python3.11/dist-packages (from optree->keras) (4.13.2)\n",
            "Requirement already satisfied: pytz>=2020.1 in /usr/local/lib/python3.11/dist-packages (from pandas->fer) (2025.2)\n",
            "Requirement already satisfied: tzdata>=2022.7 in /usr/local/lib/python3.11/dist-packages (from pandas->fer) (2025.2)\n",
            "Requirement already satisfied: markdown-it-py>=2.2.0 in /usr/local/lib/python3.11/dist-packages (from rich->keras) (3.0.0)\n",
            "Requirement already satisfied: pygments<3.0.0,>=2.13.0 in /usr/local/lib/python3.11/dist-packages (from rich->keras) (2.18.0)\n",
            "Requirement already satisfied: mdurl~=0.1 in /usr/local/lib/python3.11/dist-packages (from markdown-it-py>=2.2.0->rich->keras) (0.1.2)\n",
            "Requirement already satisfied: six>=1.5 in /usr/local/lib/python3.11/dist-packages (from python-dateutil>=2.7->matplotlib->fer) (1.17.0)\n",
            "Requirement already satisfied: filelock in /usr/local/lib/python3.11/dist-packages (from torch<2.3.0,>=2.2.0->facenet-pytorch->fer) (3.18.0)\n",
            "Requirement already satisfied: sympy in /usr/local/lib/python3.11/dist-packages (from torch<2.3.0,>=2.2.0->facenet-pytorch->fer) (1.13.1)\n",
            "Requirement already satisfied: networkx in /usr/local/lib/python3.11/dist-packages (from torch<2.3.0,>=2.2.0->facenet-pytorch->fer) (3.4.2)\n",
            "Requirement already satisfied: jinja2 in /usr/local/lib/python3.11/dist-packages (from torch<2.3.0,>=2.2.0->facenet-pytorch->fer) (3.1.6)\n",
            "Requirement already satisfied: fsspec in /usr/local/lib/python3.11/dist-packages (from torch<2.3.0,>=2.2.0->facenet-pytorch->fer) (2025.3.2)\n",
            "Collecting nvidia-cuda-nvrtc-cu12==12.1.105 (from torch<2.3.0,>=2.2.0->facenet-pytorch->fer)\n",
            "  Downloading nvidia_cuda_nvrtc_cu12-12.1.105-py3-none-manylinux1_x86_64.whl.metadata (1.5 kB)\n",
            "Collecting nvidia-cuda-runtime-cu12==12.1.105 (from torch<2.3.0,>=2.2.0->facenet-pytorch->fer)\n",
            "  Downloading nvidia_cuda_runtime_cu12-12.1.105-py3-none-manylinux1_x86_64.whl.metadata (1.5 kB)\n",
            "Collecting nvidia-cuda-cupti-cu12==12.1.105 (from torch<2.3.0,>=2.2.0->facenet-pytorch->fer)\n",
            "  Downloading nvidia_cuda_cupti_cu12-12.1.105-py3-none-manylinux1_x86_64.whl.metadata (1.6 kB)\n",
            "Collecting nvidia-cudnn-cu12==8.9.2.26 (from torch<2.3.0,>=2.2.0->facenet-pytorch->fer)\n",
            "  Downloading nvidia_cudnn_cu12-8.9.2.26-py3-none-manylinux1_x86_64.whl.metadata (1.6 kB)\n",
            "Collecting nvidia-cublas-cu12==12.1.3.1 (from torch<2.3.0,>=2.2.0->facenet-pytorch->fer)\n",
            "  Downloading nvidia_cublas_cu12-12.1.3.1-py3-none-manylinux1_x86_64.whl.metadata (1.5 kB)\n",
            "Collecting nvidia-cufft-cu12==11.0.2.54 (from torch<2.3.0,>=2.2.0->facenet-pytorch->fer)\n",
            "  Downloading nvidia_cufft_cu12-11.0.2.54-py3-none-manylinux1_x86_64.whl.metadata (1.5 kB)\n",
            "Collecting nvidia-curand-cu12==10.3.2.106 (from torch<2.3.0,>=2.2.0->facenet-pytorch->fer)\n",
            "  Downloading nvidia_curand_cu12-10.3.2.106-py3-none-manylinux1_x86_64.whl.metadata (1.5 kB)\n",
            "Collecting nvidia-cusolver-cu12==11.4.5.107 (from torch<2.3.0,>=2.2.0->facenet-pytorch->fer)\n",
            "  Downloading nvidia_cusolver_cu12-11.4.5.107-py3-none-manylinux1_x86_64.whl.metadata (1.6 kB)\n",
            "Collecting nvidia-cusparse-cu12==12.1.0.106 (from torch<2.3.0,>=2.2.0->facenet-pytorch->fer)\n",
            "  Downloading nvidia_cusparse_cu12-12.1.0.106-py3-none-manylinux1_x86_64.whl.metadata (1.6 kB)\n",
            "Collecting nvidia-nccl-cu12==2.19.3 (from torch<2.3.0,>=2.2.0->facenet-pytorch->fer)\n",
            "  Downloading nvidia_nccl_cu12-2.19.3-py3-none-manylinux1_x86_64.whl.metadata (1.8 kB)\n",
            "Collecting nvidia-nvtx-cu12==12.1.105 (from torch<2.3.0,>=2.2.0->facenet-pytorch->fer)\n",
            "  Downloading nvidia_nvtx_cu12-12.1.105-py3-none-manylinux1_x86_64.whl.metadata (1.7 kB)\n",
            "Collecting triton==2.2.0 (from torch<2.3.0,>=2.2.0->facenet-pytorch->fer)\n",
            "  Downloading triton-2.2.0-cp311-cp311-manylinux_2_17_x86_64.manylinux2014_x86_64.whl.metadata (1.4 kB)\n",
            "Requirement already satisfied: nvidia-nvjitlink-cu12 in /usr/local/lib/python3.11/dist-packages (from nvidia-cusolver-cu12==11.4.5.107->torch<2.3.0,>=2.2.0->facenet-pytorch->fer) (12.5.82)\n",
            "Requirement already satisfied: MarkupSafe>=2.0 in /usr/local/lib/python3.11/dist-packages (from jinja2->torch<2.3.0,>=2.2.0->facenet-pytorch->fer) (3.0.2)\n",
            "Requirement already satisfied: mpmath<1.4,>=1.1.0 in /usr/local/lib/python3.11/dist-packages (from sympy->torch<2.3.0,>=2.2.0->facenet-pytorch->fer) (1.3.0)\n",
            "Downloading fer-22.5.1-py3-none-any.whl (1.5 MB)\n",
            "\u001b[2K   \u001b[90m━━━━━━━━━━━━━━━━━━━━━━━━━━━━━━━━━━━━━━━━\u001b[0m \u001b[32m1.5/1.5 MB\u001b[0m \u001b[31m25.1 MB/s\u001b[0m eta \u001b[36m0:00:00\u001b[0m\n",
            "\u001b[?25hDownloading facenet_pytorch-2.6.0-py3-none-any.whl (1.9 MB)\n",
            "\u001b[2K   \u001b[90m━━━━━━━━━━━━━━━━━━━━━━━━━━━━━━━━━━━━━━━━\u001b[0m \u001b[32m1.9/1.9 MB\u001b[0m \u001b[31m42.1 MB/s\u001b[0m eta \u001b[36m0:00:00\u001b[0m\n",
            "\u001b[?25hDownloading numpy-1.26.4-cp311-cp311-manylinux_2_17_x86_64.manylinux2014_x86_64.whl (18.3 MB)\n",
            "\u001b[2K   \u001b[90m━━━━━━━━━━━━━━━━━━━━━━━━━━━━━━━━━━━━━━━━\u001b[0m \u001b[32m18.3/18.3 MB\u001b[0m \u001b[31m57.8 MB/s\u001b[0m eta \u001b[36m0:00:00\u001b[0m\n",
            "\u001b[?25hDownloading pillow-10.2.0-cp311-cp311-manylinux_2_28_x86_64.whl (4.5 MB)\n",
            "\u001b[2K   \u001b[90m━━━━━━━━━━━━━━━━━━━━━━━━━━━━━━━━━━━━━━━━\u001b[0m \u001b[32m4.5/4.5 MB\u001b[0m \u001b[31m72.7 MB/s\u001b[0m eta \u001b[36m0:00:00\u001b[0m\n",
            "\u001b[?25hDownloading torch-2.2.2-cp311-cp311-manylinux1_x86_64.whl (755.6 MB)\n",
            "\u001b[2K   \u001b[90m━━━━━━━━━━━━━━━━━━━━━━━━━━━━━━━━━━━━━━━━\u001b[0m \u001b[32m755.6/755.6 MB\u001b[0m \u001b[31m2.0 MB/s\u001b[0m eta \u001b[36m0:00:00\u001b[0m\n",
            "\u001b[?25hDownloading nvidia_cublas_cu12-12.1.3.1-py3-none-manylinux1_x86_64.whl (410.6 MB)\n",
            "\u001b[2K   \u001b[90m━━━━━━━━━━━━━━━━━━━━━━━━━━━━━━━━━━━━━━━━\u001b[0m \u001b[32m410.6/410.6 MB\u001b[0m \u001b[31m3.7 MB/s\u001b[0m eta \u001b[36m0:00:00\u001b[0m\n",
            "\u001b[?25hDownloading nvidia_cuda_cupti_cu12-12.1.105-py3-none-manylinux1_x86_64.whl (14.1 MB)\n",
            "\u001b[2K   \u001b[90m━━━━━━━━━━━━━━━━━━━━━━━━━━━━━━━━━━━━━━━━\u001b[0m \u001b[32m14.1/14.1 MB\u001b[0m \u001b[31m90.0 MB/s\u001b[0m eta \u001b[36m0:00:00\u001b[0m\n",
            "\u001b[?25hDownloading nvidia_cuda_nvrtc_cu12-12.1.105-py3-none-manylinux1_x86_64.whl (23.7 MB)\n",
            "\u001b[2K   \u001b[90m━━━━━━━━━━━━━━━━━━━━━━━━━━━━━━━━━━━━━━━━\u001b[0m \u001b[32m23.7/23.7 MB\u001b[0m \u001b[31m29.2 MB/s\u001b[0m eta \u001b[36m0:00:00\u001b[0m\n",
            "\u001b[?25hDownloading nvidia_cuda_runtime_cu12-12.1.105-py3-none-manylinux1_x86_64.whl (823 kB)\n",
            "\u001b[2K   \u001b[90m━━━━━━━━━━━━━━━━━━━━━━━━━━━━━━━━━━━━━━━━\u001b[0m \u001b[32m823.6/823.6 kB\u001b[0m \u001b[31m45.8 MB/s\u001b[0m eta \u001b[36m0:00:00\u001b[0m\n",
            "\u001b[?25hDownloading nvidia_cudnn_cu12-8.9.2.26-py3-none-manylinux1_x86_64.whl (731.7 MB)\n",
            "\u001b[2K   \u001b[90m━━━━━━━━━━━━━━━━━━━━━━━━━━━━━━━━━━━━━━━━\u001b[0m \u001b[32m731.7/731.7 MB\u001b[0m \u001b[31m2.5 MB/s\u001b[0m eta \u001b[36m0:00:00\u001b[0m\n",
            "\u001b[?25hDownloading nvidia_cufft_cu12-11.0.2.54-py3-none-manylinux1_x86_64.whl (121.6 MB)\n",
            "\u001b[2K   \u001b[90m━━━━━━━━━━━━━━━━━━━━━━━━━━━━━━━━━━━━━━━━\u001b[0m \u001b[32m121.6/121.6 MB\u001b[0m \u001b[31m7.8 MB/s\u001b[0m eta \u001b[36m0:00:00\u001b[0m\n",
            "\u001b[?25hDownloading nvidia_curand_cu12-10.3.2.106-py3-none-manylinux1_x86_64.whl (56.5 MB)\n",
            "\u001b[2K   \u001b[90m━━━━━━━━━━━━━━━━━━━━━━━━━━━━━━━━━━━━━━━━\u001b[0m \u001b[32m56.5/56.5 MB\u001b[0m \u001b[31m14.9 MB/s\u001b[0m eta \u001b[36m0:00:00\u001b[0m\n",
            "\u001b[?25hDownloading nvidia_cusolver_cu12-11.4.5.107-py3-none-manylinux1_x86_64.whl (124.2 MB)\n",
            "\u001b[2K   \u001b[90m━━━━━━━━━━━━━━━━━━━━━━━━━━━━━━━━━━━━━━━━\u001b[0m \u001b[32m124.2/124.2 MB\u001b[0m \u001b[31m7.8 MB/s\u001b[0m eta \u001b[36m0:00:00\u001b[0m\n",
            "\u001b[?25hDownloading nvidia_cusparse_cu12-12.1.0.106-py3-none-manylinux1_x86_64.whl (196.0 MB)\n",
            "\u001b[2K   \u001b[90m━━━━━━━━━━━━━━━━━━━━━━━━━━━━━━━━━━━━━━━━\u001b[0m \u001b[32m196.0/196.0 MB\u001b[0m \u001b[31m6.0 MB/s\u001b[0m eta \u001b[36m0:00:00\u001b[0m\n",
            "\u001b[?25hDownloading nvidia_nccl_cu12-2.19.3-py3-none-manylinux1_x86_64.whl (166.0 MB)\n",
            "\u001b[2K   \u001b[90m━━━━━━━━━━━━━━━━━━━━━━━━━━━━━━━━━━━━━━━━\u001b[0m \u001b[32m166.0/166.0 MB\u001b[0m \u001b[31m6.7 MB/s\u001b[0m eta \u001b[36m0:00:00\u001b[0m\n",
            "\u001b[?25hDownloading nvidia_nvtx_cu12-12.1.105-py3-none-manylinux1_x86_64.whl (99 kB)\n",
            "\u001b[2K   \u001b[90m━━━━━━━━━━━━━━━━━━━━━━━━━━━━━━━━━━━━━━━━\u001b[0m \u001b[32m99.1/99.1 kB\u001b[0m \u001b[31m8.0 MB/s\u001b[0m eta \u001b[36m0:00:00\u001b[0m\n",
            "\u001b[?25hDownloading triton-2.2.0-cp311-cp311-manylinux_2_17_x86_64.manylinux2014_x86_64.whl (167.9 MB)\n",
            "\u001b[2K   \u001b[90m━━━━━━━━━━━━━━━━━━━━━━━━━━━━━━━━━━━━━━━━\u001b[0m \u001b[32m167.9/167.9 MB\u001b[0m \u001b[31m7.2 MB/s\u001b[0m eta \u001b[36m0:00:00\u001b[0m\n",
            "\u001b[?25hDownloading torchvision-0.17.2-cp311-cp311-manylinux1_x86_64.whl (6.9 MB)\n",
            "\u001b[2K   \u001b[90m━━━━━━━━━━━━━━━━━━━━━━━━━━━━━━━━━━━━━━━━\u001b[0m \u001b[32m6.9/6.9 MB\u001b[0m \u001b[31m114.6 MB/s\u001b[0m eta \u001b[36m0:00:00\u001b[0m\n",
            "\u001b[?25hBuilding wheels for collected packages: ffmpeg\n",
            "  Building wheel for ffmpeg (setup.py) ... \u001b[?25l\u001b[?25hdone\n",
            "  Created wheel for ffmpeg: filename=ffmpeg-1.4-py3-none-any.whl size=6083 sha256=687746ce9221d017ddda7f1a48b2cb4ec7d9456ed2b0e38fc81a91f8f5dc0bf5\n",
            "  Stored in directory: /root/.cache/pip/wheels/56/30/c5/576bdd729f3bc062d62a551be7fefd6ed2f761901568171e4e\n",
            "Successfully built ffmpeg\n",
            "Installing collected packages: ffmpeg, triton, Pillow, nvidia-nvtx-cu12, nvidia-nccl-cu12, nvidia-cusparse-cu12, nvidia-curand-cu12, nvidia-cufft-cu12, nvidia-cuda-runtime-cu12, nvidia-cuda-nvrtc-cu12, nvidia-cuda-cupti-cu12, nvidia-cublas-cu12, numpy, nvidia-cusolver-cu12, nvidia-cudnn-cu12, torch, torchvision, facenet-pytorch, fer\n",
            "  Attempting uninstall: triton\n",
            "    Found existing installation: triton 3.2.0\n",
            "    Uninstalling triton-3.2.0:\n",
            "      Successfully uninstalled triton-3.2.0\n",
            "  Attempting uninstall: Pillow\n",
            "    Found existing installation: pillow 11.1.0\n",
            "    Uninstalling pillow-11.1.0:\n",
            "      Successfully uninstalled pillow-11.1.0\n",
            "  Attempting uninstall: nvidia-nvtx-cu12\n",
            "    Found existing installation: nvidia-nvtx-cu12 12.4.127\n",
            "    Uninstalling nvidia-nvtx-cu12-12.4.127:\n",
            "      Successfully uninstalled nvidia-nvtx-cu12-12.4.127\n",
            "  Attempting uninstall: nvidia-nccl-cu12\n",
            "    Found existing installation: nvidia-nccl-cu12 2.21.5\n",
            "    Uninstalling nvidia-nccl-cu12-2.21.5:\n",
            "      Successfully uninstalled nvidia-nccl-cu12-2.21.5\n",
            "  Attempting uninstall: nvidia-cusparse-cu12\n",
            "    Found existing installation: nvidia-cusparse-cu12 12.5.1.3\n",
            "    Uninstalling nvidia-cusparse-cu12-12.5.1.3:\n",
            "      Successfully uninstalled nvidia-cusparse-cu12-12.5.1.3\n",
            "  Attempting uninstall: nvidia-curand-cu12\n",
            "    Found existing installation: nvidia-curand-cu12 10.3.6.82\n",
            "    Uninstalling nvidia-curand-cu12-10.3.6.82:\n",
            "      Successfully uninstalled nvidia-curand-cu12-10.3.6.82\n",
            "  Attempting uninstall: nvidia-cufft-cu12\n",
            "    Found existing installation: nvidia-cufft-cu12 11.2.3.61\n",
            "    Uninstalling nvidia-cufft-cu12-11.2.3.61:\n",
            "      Successfully uninstalled nvidia-cufft-cu12-11.2.3.61\n",
            "  Attempting uninstall: nvidia-cuda-runtime-cu12\n",
            "    Found existing installation: nvidia-cuda-runtime-cu12 12.5.82\n",
            "    Uninstalling nvidia-cuda-runtime-cu12-12.5.82:\n",
            "      Successfully uninstalled nvidia-cuda-runtime-cu12-12.5.82\n",
            "  Attempting uninstall: nvidia-cuda-nvrtc-cu12\n",
            "    Found existing installation: nvidia-cuda-nvrtc-cu12 12.5.82\n",
            "    Uninstalling nvidia-cuda-nvrtc-cu12-12.5.82:\n",
            "      Successfully uninstalled nvidia-cuda-nvrtc-cu12-12.5.82\n",
            "  Attempting uninstall: nvidia-cuda-cupti-cu12\n",
            "    Found existing installation: nvidia-cuda-cupti-cu12 12.5.82\n",
            "    Uninstalling nvidia-cuda-cupti-cu12-12.5.82:\n",
            "      Successfully uninstalled nvidia-cuda-cupti-cu12-12.5.82\n",
            "  Attempting uninstall: nvidia-cublas-cu12\n",
            "    Found existing installation: nvidia-cublas-cu12 12.5.3.2\n",
            "    Uninstalling nvidia-cublas-cu12-12.5.3.2:\n",
            "      Successfully uninstalled nvidia-cublas-cu12-12.5.3.2\n",
            "  Attempting uninstall: numpy\n",
            "    Found existing installation: numpy 2.0.2\n",
            "    Uninstalling numpy-2.0.2:\n",
            "      Successfully uninstalled numpy-2.0.2\n",
            "  Attempting uninstall: nvidia-cusolver-cu12\n",
            "    Found existing installation: nvidia-cusolver-cu12 11.6.3.83\n",
            "    Uninstalling nvidia-cusolver-cu12-11.6.3.83:\n",
            "      Successfully uninstalled nvidia-cusolver-cu12-11.6.3.83\n",
            "  Attempting uninstall: nvidia-cudnn-cu12\n",
            "    Found existing installation: nvidia-cudnn-cu12 9.3.0.75\n",
            "    Uninstalling nvidia-cudnn-cu12-9.3.0.75:\n",
            "      Successfully uninstalled nvidia-cudnn-cu12-9.3.0.75\n",
            "  Attempting uninstall: torch\n",
            "    Found existing installation: torch 2.6.0+cu124\n",
            "    Uninstalling torch-2.6.0+cu124:\n",
            "      Successfully uninstalled torch-2.6.0+cu124\n",
            "  Attempting uninstall: torchvision\n",
            "    Found existing installation: torchvision 0.21.0+cu124\n",
            "    Uninstalling torchvision-0.21.0+cu124:\n",
            "      Successfully uninstalled torchvision-0.21.0+cu124\n",
            "\u001b[31mERROR: pip's dependency resolver does not currently take into account all the packages that are installed. This behaviour is the source of the following dependency conflicts.\n",
            "thinc 8.3.6 requires numpy<3.0.0,>=2.0.0, but you have numpy 1.26.4 which is incompatible.\n",
            "torchaudio 2.6.0+cu124 requires torch==2.6.0, but you have torch 2.2.2 which is incompatible.\u001b[0m\u001b[31m\n",
            "\u001b[0mSuccessfully installed Pillow-10.2.0 facenet-pytorch-2.6.0 fer-22.5.1 ffmpeg-1.4 numpy-1.26.4 nvidia-cublas-cu12-12.1.3.1 nvidia-cuda-cupti-cu12-12.1.105 nvidia-cuda-nvrtc-cu12-12.1.105 nvidia-cuda-runtime-cu12-12.1.105 nvidia-cudnn-cu12-8.9.2.26 nvidia-cufft-cu12-11.0.2.54 nvidia-curand-cu12-10.3.2.106 nvidia-cusolver-cu12-11.4.5.107 nvidia-cusparse-cu12-12.1.0.106 nvidia-nccl-cu12-2.19.3 nvidia-nvtx-cu12-12.1.105 torch-2.2.2 torchvision-0.17.2 triton-2.2.0\n"
          ]
        },
        {
          "output_type": "display_data",
          "data": {
            "application/vnd.colab-display-data+json": {
              "pip_warning": {
                "packages": [
                  "PIL",
                  "nvidia"
                ]
              },
              "id": "3772f45f790f47f698507185906cdf3a"
            }
          },
          "metadata": {}
        }
      ]
    },
    {
      "source": [
        "!pip install facenet-pytorch"
      ],
      "cell_type": "code",
      "metadata": {
        "id": "QMVK9q8-ho_y",
        "colab": {
          "base_uri": "https://localhost:8080/"
        },
        "outputId": "ff45f421-6e2f-402b-ecd9-5e75c2e5b348"
      },
      "execution_count": null,
      "outputs": [
        {
          "output_type": "stream",
          "name": "stdout",
          "text": [
            "Requirement already satisfied: facenet-pytorch in /usr/local/lib/python3.11/dist-packages (2.6.0)\n",
            "Requirement already satisfied: numpy<2.0.0,>=1.24.0 in /usr/local/lib/python3.11/dist-packages (from facenet-pytorch) (1.26.4)\n",
            "Requirement already satisfied: Pillow<10.3.0,>=10.2.0 in /usr/local/lib/python3.11/dist-packages (from facenet-pytorch) (10.2.0)\n",
            "Requirement already satisfied: requests<3.0.0,>=2.0.0 in /usr/local/lib/python3.11/dist-packages (from facenet-pytorch) (2.32.3)\n",
            "Requirement already satisfied: torch<2.3.0,>=2.2.0 in /usr/local/lib/python3.11/dist-packages (from facenet-pytorch) (2.2.2)\n",
            "Requirement already satisfied: torchvision<0.18.0,>=0.17.0 in /usr/local/lib/python3.11/dist-packages (from facenet-pytorch) (0.17.2)\n",
            "Requirement already satisfied: tqdm<5.0.0,>=4.0.0 in /usr/local/lib/python3.11/dist-packages (from facenet-pytorch) (4.67.1)\n",
            "Requirement already satisfied: charset-normalizer<4,>=2 in /usr/local/lib/python3.11/dist-packages (from requests<3.0.0,>=2.0.0->facenet-pytorch) (3.4.1)\n",
            "Requirement already satisfied: idna<4,>=2.5 in /usr/local/lib/python3.11/dist-packages (from requests<3.0.0,>=2.0.0->facenet-pytorch) (3.10)\n",
            "Requirement already satisfied: urllib3<3,>=1.21.1 in /usr/local/lib/python3.11/dist-packages (from requests<3.0.0,>=2.0.0->facenet-pytorch) (2.3.0)\n",
            "Requirement already satisfied: certifi>=2017.4.17 in /usr/local/lib/python3.11/dist-packages (from requests<3.0.0,>=2.0.0->facenet-pytorch) (2025.1.31)\n",
            "Requirement already satisfied: filelock in /usr/local/lib/python3.11/dist-packages (from torch<2.3.0,>=2.2.0->facenet-pytorch) (3.18.0)\n",
            "Requirement already satisfied: typing-extensions>=4.8.0 in /usr/local/lib/python3.11/dist-packages (from torch<2.3.0,>=2.2.0->facenet-pytorch) (4.13.2)\n",
            "Requirement already satisfied: sympy in /usr/local/lib/python3.11/dist-packages (from torch<2.3.0,>=2.2.0->facenet-pytorch) (1.13.1)\n",
            "Requirement already satisfied: networkx in /usr/local/lib/python3.11/dist-packages (from torch<2.3.0,>=2.2.0->facenet-pytorch) (3.4.2)\n",
            "Requirement already satisfied: jinja2 in /usr/local/lib/python3.11/dist-packages (from torch<2.3.0,>=2.2.0->facenet-pytorch) (3.1.6)\n",
            "Requirement already satisfied: fsspec in /usr/local/lib/python3.11/dist-packages (from torch<2.3.0,>=2.2.0->facenet-pytorch) (2025.3.2)\n",
            "Requirement already satisfied: nvidia-cuda-nvrtc-cu12==12.1.105 in /usr/local/lib/python3.11/dist-packages (from torch<2.3.0,>=2.2.0->facenet-pytorch) (12.1.105)\n",
            "Requirement already satisfied: nvidia-cuda-runtime-cu12==12.1.105 in /usr/local/lib/python3.11/dist-packages (from torch<2.3.0,>=2.2.0->facenet-pytorch) (12.1.105)\n",
            "Requirement already satisfied: nvidia-cuda-cupti-cu12==12.1.105 in /usr/local/lib/python3.11/dist-packages (from torch<2.3.0,>=2.2.0->facenet-pytorch) (12.1.105)\n",
            "Requirement already satisfied: nvidia-cudnn-cu12==8.9.2.26 in /usr/local/lib/python3.11/dist-packages (from torch<2.3.0,>=2.2.0->facenet-pytorch) (8.9.2.26)\n",
            "Requirement already satisfied: nvidia-cublas-cu12==12.1.3.1 in /usr/local/lib/python3.11/dist-packages (from torch<2.3.0,>=2.2.0->facenet-pytorch) (12.1.3.1)\n",
            "Requirement already satisfied: nvidia-cufft-cu12==11.0.2.54 in /usr/local/lib/python3.11/dist-packages (from torch<2.3.0,>=2.2.0->facenet-pytorch) (11.0.2.54)\n",
            "Requirement already satisfied: nvidia-curand-cu12==10.3.2.106 in /usr/local/lib/python3.11/dist-packages (from torch<2.3.0,>=2.2.0->facenet-pytorch) (10.3.2.106)\n",
            "Requirement already satisfied: nvidia-cusolver-cu12==11.4.5.107 in /usr/local/lib/python3.11/dist-packages (from torch<2.3.0,>=2.2.0->facenet-pytorch) (11.4.5.107)\n",
            "Requirement already satisfied: nvidia-cusparse-cu12==12.1.0.106 in /usr/local/lib/python3.11/dist-packages (from torch<2.3.0,>=2.2.0->facenet-pytorch) (12.1.0.106)\n",
            "Requirement already satisfied: nvidia-nccl-cu12==2.19.3 in /usr/local/lib/python3.11/dist-packages (from torch<2.3.0,>=2.2.0->facenet-pytorch) (2.19.3)\n",
            "Requirement already satisfied: nvidia-nvtx-cu12==12.1.105 in /usr/local/lib/python3.11/dist-packages (from torch<2.3.0,>=2.2.0->facenet-pytorch) (12.1.105)\n",
            "Requirement already satisfied: triton==2.2.0 in /usr/local/lib/python3.11/dist-packages (from torch<2.3.0,>=2.2.0->facenet-pytorch) (2.2.0)\n",
            "Requirement already satisfied: nvidia-nvjitlink-cu12 in /usr/local/lib/python3.11/dist-packages (from nvidia-cusolver-cu12==11.4.5.107->torch<2.3.0,>=2.2.0->facenet-pytorch) (12.5.82)\n",
            "Requirement already satisfied: MarkupSafe>=2.0 in /usr/local/lib/python3.11/dist-packages (from jinja2->torch<2.3.0,>=2.2.0->facenet-pytorch) (3.0.2)\n",
            "Requirement already satisfied: mpmath<1.4,>=1.1.0 in /usr/local/lib/python3.11/dist-packages (from sympy->torch<2.3.0,>=2.2.0->facenet-pytorch) (1.3.0)\n"
          ]
        }
      ]
    },
    {
      "cell_type": "code",
      "source": [
        "from fer import FER\n",
        "import os\n",
        "import pandas as pd\n",
        "import matplotlib.pyplot as plt\n",
        "import seaborn as sns\n",
        "from PIL import Image\n",
        "import numpy as np\n",
        "\n",
        "# 初始化detector\n",
        "detector = FER(mtcnn=False)\n",
        "\n",
        "# 設定你的資料夾\n",
        "root_folder = './'  # 你上傳在根目錄\n",
        "groups = ['caucasian', 'asian', 'black']\n",
        "emotions = ['happy', 'sad', 'angry']\n",
        "\n",
        "# 儲存預測結果\n",
        "results = []\n",
        "\n",
        "# 開始做預測\n",
        "for group in groups:\n",
        "    folder = os.path.join(root_folder, group)\n",
        "    for file in os.listdir(folder):\n",
        "        if file.endswith('.jpg') or file.endswith('.png'):\n",
        "            filepath = os.path.join(folder, file)\n",
        "\n",
        "            try:\n",
        "                img = Image.open(filepath).convert('RGB')\n",
        "                img = np.array(img)\n",
        "\n",
        "                # 預測情緒\n",
        "                preds = detector.detect_emotions(img)\n",
        "\n",
        "                if preds:\n",
        "                    # preds是一個list，每個人臉一個dict\n",
        "                    emotions_pred = preds[0][\"emotions\"]\n",
        "                    pred_emotion = max(emotions_pred, key=emotions_pred.get)  # 選最高分的情緒\n",
        "                else:\n",
        "                    pred_emotion = 'unknown'\n",
        "\n",
        "                # 真實label從檔名推斷\n",
        "                true_label = None\n",
        "                for emo in emotions:\n",
        "                    if emo in file.lower():\n",
        "                        true_label = emo\n",
        "                        break\n",
        "\n",
        "                if true_label is not None:\n",
        "                    results.append({\n",
        "                        'group': group,\n",
        "                        'true_emotion': true_label,\n",
        "                        'predicted_emotion': pred_emotion.lower()\n",
        "                    })\n",
        "            except Exception as e:\n",
        "                print(f\"Error processing {filepath}: {e}\")\n",
        "\n",
        "# 整理成 DataFrame\n",
        "df_mini = pd.DataFrame(results)\n",
        "\n",
        "# 顯示確認\n",
        "print(df_mini.head())\n"
      ],
      "metadata": {
        "id": "dspJbCJm3FEH",
        "colab": {
          "base_uri": "https://localhost:8080/"
        },
        "outputId": "e5f0eb02-3cdc-4678-f288-abbb306f7e79"
      },
      "execution_count": null,
      "outputs": [
        {
          "output_type": "stream",
          "name": "stdout",
          "text": [
            "       group true_emotion predicted_emotion\n",
            "0  caucasian        angry          surprise\n",
            "1  caucasian        happy             happy\n",
            "2  caucasian        angry           unknown\n",
            "3  caucasian        angry           unknown\n",
            "4  caucasian          sad           unknown\n"
          ]
        }
      ]
    },
    {
      "cell_type": "code",
      "source": [
        "# 計算每個 group x true_emotion 的準確率\n",
        "accuracy_table_mini = df_mini.groupby(['group', 'true_emotion']).apply(\n",
        "    lambda x: (x['true_emotion'] == x['predicted_emotion']).mean()\n",
        ").unstack()\n",
        "\n",
        "print(accuracy_table_mini)\n",
        "\n",
        "# 畫Heatmap\n",
        "plt.figure(figsize=(8, 6))\n",
        "sns.heatmap(accuracy_table_mini, annot=True, cmap='coolwarm', vmin=0, vmax=1)\n",
        "plt.title('Mini-Xception: Emotion Detection Accuracy by Group and Emotion')\n",
        "plt.ylabel('Group')\n",
        "plt.xlabel('Emotion')\n",
        "plt.show()\n"
      ],
      "metadata": {
        "id": "IahgIFfm3FP7",
        "colab": {
          "base_uri": "https://localhost:8080/",
          "height": 655
        },
        "outputId": "8d952b3a-9eea-45fc-9ecd-3454eb9a0fc7"
      },
      "execution_count": null,
      "outputs": [
        {
          "output_type": "stream",
          "name": "stdout",
          "text": [
            "true_emotion     angry     happy       sad\n",
            "group                                     \n",
            "asian         0.066667  0.600000  0.200000\n",
            "black         0.066667  0.200000  0.066667\n",
            "caucasian     0.066667  0.733333  0.066667\n"
          ]
        },
        {
          "output_type": "display_data",
          "data": {
            "text/plain": [
              "<Figure size 800x600 with 2 Axes>"
            ],
            "image/png": "[encoded data removed]"
          },
          "metadata": {}
        }
      ]
    },
    {
      "cell_type": "code",
      "source": [
        "import matplotlib.pyplot as plt\n",
        "\n",
        "# 計算每個 group 的總體準確率\n",
        "overall_accuracy_mini = df_mini.groupby('group').apply(\n",
        "    lambda x: (x['true_emotion'] == x['predicted_emotion']).mean()\n",
        ")\n",
        "\n",
        "# 畫出 bar chart\n",
        "plt.figure(figsize=(8, 6))\n",
        "bars = overall_accuracy_mini.plot(kind='bar', color='lightblue', edgecolor='black')\n",
        "\n",
        "plt.title('Mini-Xception: Overall Emotion Detection Accuracy by Group')\n",
        "plt.ylabel('Accuracy')\n",
        "plt.ylim(0, 1)\n",
        "plt.xticks(rotation=0)\n",
        "plt.grid(axis='y')\n",
        "\n",
        "# 在每個 bar 上方加上數字\n",
        "for i, v in enumerate(overall_accuracy_mini):\n",
        "    plt.text(i, v + 0.02, f'{v:.2f}', ha='center', fontweight='bold')\n",
        "\n",
        "plt.show()\n",
        "\n",
        "# 額外印出數字表格\n",
        "print(\"Mini-Xception: Overall Emotion Detection Accuracy by Group:\")\n",
        "print(overall_accuracy_mini.round(3))\n"
      ],
      "metadata": {
        "id": "W-xmusroo1ju",
        "colab": {
          "base_uri": "https://localhost:8080/",
          "height": 673
        },
        "outputId": "4c2e65f2-248e-4318-8009-64d9d3b194a4"
      },
      "execution_count": null,
      "outputs": [
        {
          "output_type": "display_data",
          "data": {
            "text/plain": [
              "<Figure size 800x600 with 1 Axes>"
            ],
            "image/png": "[encoded data removed]"
          },
          "metadata": {}
        },
        {
          "output_type": "stream",
          "name": "stdout",
          "text": [
            "Mini-Xception: Overall Emotion Detection Accuracy by Group:\n",
            "group\n",
            "asian        0.289\n",
            "black        0.111\n",
            "caucasian    0.289\n",
            "dtype: float64\n"
          ]
        }
      ]
    },
    {
      "cell_type": "code",
      "source": [
        "# 計算每個 group 的總體準確率\n",
        "overall_accuracy_mini = df_mini.groupby('group').apply(\n",
        "    lambda x: (x['true_emotion'] == x['predicted_emotion']).mean()\n",
        ")\n",
        "\n",
        "# 畫出 bar chart\n",
        "plt.figure(figsize=(8, 6))\n",
        "overall_accuracy_mini.plot(kind='bar', color='lightblue', edgecolor='black')\n",
        "plt.title('Mini-Xception: Overall Emotion Detection Accuracy by Group')\n",
        "plt.ylabel('Accuracy')\n",
        "plt.ylim(0, 1)\n",
        "plt.xticks(rotation=0)\n",
        "plt.grid(axis='y')\n",
        "plt.show()\n"
      ],
      "metadata": {
        "id": "-qD1n-HLg3hF",
        "colab": {
          "base_uri": "https://localhost:8080/",
          "height": 564
        },
        "outputId": "17c513bd-782b-41c7-d14d-efd01ad04bde"
      },
      "execution_count": null,
      "outputs": [
        {
          "output_type": "display_data",
          "data": {
            "text/plain": [
              "<Figure size 800x600 with 1 Axes>"
            ],
            "image/png": "[encoded data removed]"
          },
          "metadata": {}
        }
      ]
    },
    {
      "cell_type": "code",
      "source": [
        "from deepface import DeepFace\n",
        "import pandas as pd\n",
        "import os\n",
        "from tqdm import tqdm\n",
        "\n",
        "# 設定你的資料夾\n",
        "root_folder = './'\n",
        "groups = ['caucasian', 'asian', 'black']\n",
        "\n",
        "results = []\n",
        "\n",
        "for group in groups:\n",
        "    folder = os.path.join(root_folder, group)\n",
        "    for file in tqdm(os.listdir(folder), desc=f'Processing {group}'):\n",
        "        if file.endswith('.jpg') or file.endswith('.png'):\n",
        "            filepath = os.path.join(folder, file)\n",
        "\n",
        "            try:\n",
        "                prediction = DeepFace.analyze(filepath, actions=['emotion'], enforce_detection=False, detector_backend='opencv')\n",
        "\n",
        "                # 取出最大情緒\n",
        "                pred_emotion = prediction['dominant_emotion']\n",
        "\n",
        "                # 從檔名判斷正確答案\n",
        "                true_label = None\n",
        "                for emo in ['happy', 'sad', 'angry']:\n",
        "                    if emo in file.lower():\n",
        "                        true_label = emo\n",
        "                        break\n",
        "\n",
        "                if true_label is not None:\n",
        "                    results.append({\n",
        "                        'group': group,\n",
        "                        'true_emotion': true_label,\n",
        "                        'predicted_emotion': pred_emotion.lower()\n",
        "                    })\n",
        "            except Exception as e:\n",
        "                print(f\"Error processing {filepath}: {e}\")\n",
        "\n",
        "# 整理成DataFrame\n",
        "df_ferplus = pd.DataFrame(results)\n",
        "\n",
        "# 看一下結果\n",
        "df_ferplus.head()\n"
      ],
      "metadata": {
        "id": "M0IvHBx_iiG8",
        "colab": {
          "base_uri": "https://localhost:8080/",
          "height": 1000
        },
        "outputId": "b5f1cbd8-219c-422b-d26e-ea0805aa8101"
      },
      "execution_count": null,
      "outputs": [
        {
          "output_type": "stream",
          "name": "stderr",
          "text": [
            "Processing caucasian:   4%|▍         | 2/45 [00:00<00:08,  4.88it/s]"
          ]
        },
        {
          "output_type": "stream",
          "name": "stdout",
          "text": [
            "Error processing ./caucasian/angry8.jpg: list indices must be integers or slices, not str\n",
            "Error processing ./caucasian/happy12.jpg: list indices must be integers or slices, not str\n"
          ]
        },
        {
          "output_type": "stream",
          "name": "stderr",
          "text": [
            "Processing caucasian:  11%|█         | 5/45 [00:00<00:04,  8.07it/s]"
          ]
        },
        {
          "output_type": "stream",
          "name": "stdout",
          "text": [
            "Error processing ./caucasian/angry2.jpg: list indices must be integers or slices, not str\n",
            "Error processing ./caucasian/angry11.jpg: list indices must be integers or slices, not str\n",
            "Error processing ./caucasian/sad7.jpg: list indices must be integers or slices, not str\n"
          ]
        },
        {
          "output_type": "stream",
          "name": "stderr",
          "text": [
            "Processing caucasian:  16%|█▌        | 7/45 [00:01<00:05,  7.22it/s]"
          ]
        },
        {
          "output_type": "stream",
          "name": "stdout",
          "text": [
            "Error processing ./caucasian/happy15.jpg: list indices must be integers or slices, not str\n",
            "Error processing ./caucasian/sad13.jpg: list indices must be integers or slices, not str\n"
          ]
        },
        {
          "output_type": "stream",
          "name": "stderr",
          "text": [
            "Processing caucasian:  20%|██        | 9/45 [00:01<00:04,  7.39it/s]"
          ]
        },
        {
          "output_type": "stream",
          "name": "stdout",
          "text": [
            "Error processing ./caucasian/happy4.jpg: list indices must be integers or slices, not str\n",
            "Error processing ./caucasian/angry6.jpg: list indices must be integers or slices, not str\n"
          ]
        },
        {
          "output_type": "stream",
          "name": "stderr",
          "text": [
            "\rProcessing caucasian:  22%|██▏       | 10/45 [00:01<00:04,  7.88it/s]"
          ]
        },
        {
          "output_type": "stream",
          "name": "stdout",
          "text": [
            "Error processing ./caucasian/angry5.jpg: list indices must be integers or slices, not str\n",
            "Error processing ./caucasian/angry14.jpg: list indices must be integers or slices, not str\n"
          ]
        },
        {
          "output_type": "stream",
          "name": "stderr",
          "text": [
            "Processing caucasian:  29%|██▉       | 13/45 [00:01<00:03,  8.54it/s]"
          ]
        },
        {
          "output_type": "stream",
          "name": "stdout",
          "text": [
            "Error processing ./caucasian/happy8.jpg: list indices must be integers or slices, not str\n",
            "Error processing ./caucasian/happy13.jpg: list indices must be integers or slices, not str\n"
          ]
        },
        {
          "output_type": "stream",
          "name": "stderr",
          "text": [
            "Processing caucasian:  36%|███▌      | 16/45 [00:02<00:02,  9.99it/s]"
          ]
        },
        {
          "output_type": "stream",
          "name": "stdout",
          "text": [
            "Error processing ./caucasian/happy5.jpg: list indices must be integers or slices, not str\n",
            "Error processing ./caucasian/angry15.jpg: list indices must be integers or slices, not str\n",
            "Error processing ./caucasian/sad1.jpg: list indices must be integers or slices, not str\n"
          ]
        },
        {
          "output_type": "stream",
          "name": "stderr",
          "text": [
            "Processing caucasian:  42%|████▏     | 19/45 [00:02<00:02, 10.64it/s]"
          ]
        },
        {
          "output_type": "stream",
          "name": "stdout",
          "text": [
            "Error processing ./caucasian/happy14.jpg: list indices must be integers or slices, not str\n",
            "Error processing ./caucasian/sad6.jpg: list indices must be integers or slices, not str\n",
            "Error processing ./caucasian/sad5.jpg: list indices must be integers or slices, not str\n"
          ]
        },
        {
          "output_type": "stream",
          "name": "stderr",
          "text": [
            "\rProcessing caucasian:  47%|████▋     | 21/45 [00:02<00:02, 10.76it/s]"
          ]
        },
        {
          "output_type": "stream",
          "name": "stdout",
          "text": [
            "Error processing ./caucasian/sad12.jpg: list indices must be integers or slices, not str\n",
            "Error processing ./caucasian/angry1.jpg: list indices must be integers or slices, not str\n",
            "Error processing ./caucasian/angry9.jpg: list indices must be integers or slices, not str\n"
          ]
        },
        {
          "output_type": "stream",
          "name": "stderr",
          "text": [
            "Processing caucasian:  56%|█████▌    | 25/45 [00:02<00:01, 11.17it/s]"
          ]
        },
        {
          "output_type": "stream",
          "name": "stdout",
          "text": [
            "Error processing ./caucasian/happy10.jpg: list indices must be integers or slices, not str\n",
            "Error processing ./caucasian/sad3.jpg: list indices must be integers or slices, not str\n",
            "Error processing ./caucasian/happy9.jpg: list indices must be integers or slices, not str\n"
          ]
        },
        {
          "output_type": "stream",
          "name": "stderr",
          "text": [
            "Processing caucasian:  64%|██████▍   | 29/45 [00:03<00:01, 12.55it/s]"
          ]
        },
        {
          "output_type": "stream",
          "name": "stdout",
          "text": [
            "Error processing ./caucasian/happy6.jpg: list indices must be integers or slices, not str\n",
            "Error processing ./caucasian/sad10.jpg: list indices must be integers or slices, not str\n",
            "Error processing ./caucasian/sad8.jpg: list indices must be integers or slices, not str\n",
            "Error processing ./caucasian/angry12.jpg: list indices must be integers or slices, not str\n"
          ]
        },
        {
          "output_type": "stream",
          "name": "stderr",
          "text": [
            "\rProcessing caucasian:  69%|██████▉   | 31/45 [00:03<00:01, 11.43it/s]"
          ]
        },
        {
          "output_type": "stream",
          "name": "stdout",
          "text": [
            "Error processing ./caucasian/sad4.jpg: list indices must be integers or slices, not str\n",
            "Error processing ./caucasian/happy7.jpg: list indices must be integers or slices, not str\n"
          ]
        },
        {
          "output_type": "stream",
          "name": "stderr",
          "text": [
            "\rProcessing caucasian:  73%|███████▎  | 33/45 [00:03<00:01, 10.86it/s]"
          ]
        },
        {
          "output_type": "stream",
          "name": "stdout",
          "text": [
            "Error processing ./caucasian/angry7.jpg: list indices must be integers or slices, not str\n",
            "Error processing ./caucasian/angry4.jpg: list indices must be integers or slices, not str\n",
            "Error processing ./caucasian/happy2.jpg: list indices must be integers or slices, not str\n"
          ]
        },
        {
          "output_type": "stream",
          "name": "stderr",
          "text": [
            "\rProcessing caucasian:  78%|███████▊  | 35/45 [00:03<00:00, 10.52it/s]"
          ]
        },
        {
          "output_type": "stream",
          "name": "stdout",
          "text": [
            "Error processing ./caucasian/sad11.jpg: list indices must be integers or slices, not str\n",
            "Error processing ./caucasian/angry10.jpg: list indices must be integers or slices, not str\n"
          ]
        },
        {
          "output_type": "stream",
          "name": "stderr",
          "text": [
            "Processing caucasian:  87%|████████▋ | 39/45 [00:04<00:00, 11.07it/s]"
          ]
        },
        {
          "output_type": "stream",
          "name": "stdout",
          "text": [
            "Error processing ./caucasian/angry3.jpg: list indices must be integers or slices, not str\n",
            "Error processing ./caucasian/happy1.jpg: list indices must be integers or slices, not str\n",
            "Error processing ./caucasian/sad14.jpg: list indices must be integers or slices, not str\n"
          ]
        },
        {
          "output_type": "stream",
          "name": "stderr",
          "text": [
            "\rProcessing caucasian:  91%|█████████ | 41/45 [00:04<00:00, 11.39it/s]"
          ]
        },
        {
          "output_type": "stream",
          "name": "stdout",
          "text": [
            "Error processing ./caucasian/happy11.jpg: list indices must be integers or slices, not str\n",
            "Error processing ./caucasian/sad2.jpg: list indices must be integers or slices, not str\n",
            "Error processing ./caucasian/angry13.jpg: list indices must be integers or slices, not str\n"
          ]
        },
        {
          "output_type": "stream",
          "name": "stderr",
          "text": [
            "Processing caucasian: 100%|██████████| 45/45 [00:04<00:00,  9.76it/s]\n"
          ]
        },
        {
          "output_type": "stream",
          "name": "stdout",
          "text": [
            "Error processing ./caucasian/happy3.jpg: list indices must be integers or slices, not str\n",
            "Error processing ./caucasian/sad15.jpg: list indices must be integers or slices, not str\n",
            "Error processing ./caucasian/sad9.jpg: list indices must be integers or slices, not str\n"
          ]
        },
        {
          "output_type": "stream",
          "name": "stderr",
          "text": [
            "Processing asian:   4%|▍         | 2/45 [00:00<00:03, 12.82it/s]"
          ]
        },
        {
          "output_type": "stream",
          "name": "stdout",
          "text": [
            "Error processing ./asian/angry8.jpg: list indices must be integers or slices, not str\n",
            "Error processing ./asian/happy12.jpg: list indices must be integers or slices, not str\n"
          ]
        },
        {
          "output_type": "stream",
          "name": "stderr",
          "text": [
            "\rProcessing asian:   9%|▉         | 4/45 [00:00<00:04,  9.68it/s]"
          ]
        },
        {
          "output_type": "stream",
          "name": "stdout",
          "text": [
            "Error processing ./asian/angry2.jpg: list indices must be integers or slices, not str\n",
            "Error processing ./asian/angry11.jpg: list indices must be integers or slices, not str\n"
          ]
        },
        {
          "output_type": "stream",
          "name": "stderr",
          "text": [
            "\rProcessing asian:  13%|█▎        | 6/45 [00:00<00:03, 10.11it/s]"
          ]
        },
        {
          "output_type": "stream",
          "name": "stdout",
          "text": [
            "Error processing ./asian/sad7.jpg: list indices must be integers or slices, not str\n",
            "Error processing ./asian/happy15.jpg: list indices must be integers or slices, not str\n",
            "Error processing ./asian/sad13.jpg: list indices must be integers or slices, not str\n"
          ]
        },
        {
          "output_type": "stream",
          "name": "stderr",
          "text": [
            "Processing asian:  22%|██▏       | 10/45 [00:00<00:02, 11.90it/s]"
          ]
        },
        {
          "output_type": "stream",
          "name": "stdout",
          "text": [
            "Error processing ./asian/happy4.jpg: list indices must be integers or slices, not str\n",
            "Error processing ./asian/angry6.jpg: list indices must be integers or slices, not str\n",
            "Error processing ./asian/angry5.jpg: list indices must be integers or slices, not str\n"
          ]
        },
        {
          "output_type": "stream",
          "name": "stderr",
          "text": [
            "\rProcessing asian:  27%|██▋       | 12/45 [00:01<00:03, 10.94it/s]"
          ]
        },
        {
          "output_type": "stream",
          "name": "stdout",
          "text": [
            "Error processing ./asian/angry14.jpg: list indices must be integers or slices, not str\n",
            "Error processing ./asian/happy8.jpg: list indices must be integers or slices, not str\n"
          ]
        },
        {
          "output_type": "stream",
          "name": "stderr",
          "text": [
            "\rProcessing asian:  31%|███       | 14/45 [00:01<00:02, 10.45it/s]"
          ]
        },
        {
          "output_type": "stream",
          "name": "stdout",
          "text": [
            "Error processing ./asian/happy13.jpg: list indices must be integers or slices, not str\n",
            "Error processing ./asian/happy5.jpg: list indices must be integers or slices, not str\n"
          ]
        },
        {
          "output_type": "stream",
          "name": "stderr",
          "text": [
            "\rProcessing asian:  36%|███▌      | 16/45 [00:01<00:02,  9.76it/s]"
          ]
        },
        {
          "output_type": "stream",
          "name": "stdout",
          "text": [
            "Error processing ./asian/angry15.jpg: list indices must be integers or slices, not str\n",
            "Error processing ./asian/sad1.jpg: list indices must be integers or slices, not str\n"
          ]
        },
        {
          "output_type": "stream",
          "name": "stderr",
          "text": [
            "\rProcessing asian:  40%|████      | 18/45 [00:01<00:02, 10.37it/s]"
          ]
        },
        {
          "output_type": "stream",
          "name": "stdout",
          "text": [
            "Error processing ./asian/happy14.jpg: list indices must be integers or slices, not str\n",
            "Error processing ./asian/sad6.jpg: list indices must be integers or slices, not str\n",
            "Error processing ./asian/sad5.jpg: list indices must be integers or slices, not str\n"
          ]
        },
        {
          "output_type": "stream",
          "name": "stderr",
          "text": [
            "\rProcessing asian:  44%|████▍     | 20/45 [00:01<00:02, 10.47it/s]"
          ]
        },
        {
          "output_type": "stream",
          "name": "stdout",
          "text": [
            "Error processing ./asian/sad12.jpg: list indices must be integers or slices, not str\n",
            "Error processing ./asian/angry1.jpg: list indices must be integers or slices, not str\n"
          ]
        },
        {
          "output_type": "stream",
          "name": "stderr",
          "text": [
            "Processing asian:  53%|█████▎    | 24/45 [00:02<00:01, 10.90it/s]"
          ]
        },
        {
          "output_type": "stream",
          "name": "stdout",
          "text": [
            "Error processing ./asian/angry9.jpg: list indices must be integers or slices, not str\n",
            "Error processing ./asian/happy10.jpg: list indices must be integers or slices, not str\n",
            "Error processing ./asian/sad3.jpg: list indices must be integers or slices, not str\n",
            "Error processing ./asian/happy9.jpg: list indices must be integers or slices, not str\n"
          ]
        },
        {
          "output_type": "stream",
          "name": "stderr",
          "text": [
            "Processing asian:  62%|██████▏   | 28/45 [00:02<00:01, 11.44it/s]"
          ]
        },
        {
          "output_type": "stream",
          "name": "stdout",
          "text": [
            "Error processing ./asian/happy6.jpg: list indices must be integers or slices, not str\n",
            "Error processing ./asian/sad10.jpg: list indices must be integers or slices, not str\n",
            "Error processing ./asian/sad8.jpg: list indices must be integers or slices, not str\n"
          ]
        },
        {
          "output_type": "stream",
          "name": "stderr",
          "text": [
            "\rProcessing asian:  67%|██████▋   | 30/45 [00:02<00:01, 11.64it/s]"
          ]
        },
        {
          "output_type": "stream",
          "name": "stdout",
          "text": [
            "Error processing ./asian/angry12.jpg: list indices must be integers or slices, not str\n",
            "Error processing ./asian/sad4.jpg: list indices must be integers or slices, not str\n",
            "Error processing ./asian/happy7.jpg: list indices must be integers or slices, not str\n"
          ]
        },
        {
          "output_type": "stream",
          "name": "stderr",
          "text": [
            "Processing asian:  76%|███████▌  | 34/45 [00:03<00:00, 13.01it/s]"
          ]
        },
        {
          "output_type": "stream",
          "name": "stdout",
          "text": [
            "Error processing ./asian/angry7.jpg: list indices must be integers or slices, not str\n",
            "Error processing ./asian/angry4.jpg: list indices must be integers or slices, not str\n",
            "Error processing ./asian/happy2.jpg: list indices must be integers or slices, not str\n",
            "Error processing ./asian/sad11.jpg: list indices must be integers or slices, not str\n"
          ]
        },
        {
          "output_type": "stream",
          "name": "stderr",
          "text": [
            "\rProcessing asian:  80%|████████  | 36/45 [00:03<00:00, 12.71it/s]"
          ]
        },
        {
          "output_type": "stream",
          "name": "stdout",
          "text": [
            "Error processing ./asian/angry10.jpg: list indices must be integers or slices, not str\n",
            "Error processing ./asian/angry3.jpg: list indices must be integers or slices, not str\n"
          ]
        },
        {
          "output_type": "stream",
          "name": "stderr",
          "text": [
            "Processing asian:  89%|████████▉ | 40/45 [00:03<00:00, 10.80it/s]"
          ]
        },
        {
          "output_type": "stream",
          "name": "stdout",
          "text": [
            "Error processing ./asian/happy1.jpg: list indices must be integers or slices, not str\n",
            "Error processing ./asian/sad14.jpg: list indices must be integers or slices, not str\n",
            "Error processing ./asian/happy11.jpg: list indices must be integers or slices, not str\n"
          ]
        },
        {
          "output_type": "stream",
          "name": "stderr",
          "text": [
            "\rProcessing asian:  93%|█████████▎| 42/45 [00:03<00:00, 11.48it/s]"
          ]
        },
        {
          "output_type": "stream",
          "name": "stdout",
          "text": [
            "Error processing ./asian/sad2.jpg: list indices must be integers or slices, not str\n",
            "Error processing ./asian/angry13.jpg: list indices must be integers or slices, not str\n"
          ]
        },
        {
          "output_type": "stream",
          "name": "stderr",
          "text": [
            "Processing asian: 100%|██████████| 45/45 [00:04<00:00, 11.06it/s]\n"
          ]
        },
        {
          "output_type": "stream",
          "name": "stdout",
          "text": [
            "Error processing ./asian/happy3.jpg: list indices must be integers or slices, not str\n",
            "Error processing ./asian/sad15.jpg: list indices must be integers or slices, not str\n",
            "Error processing ./asian/sad9.jpg: list indices must be integers or slices, not str\n"
          ]
        },
        {
          "output_type": "stream",
          "name": "stderr",
          "text": [
            "Processing black:   9%|▉         | 4/45 [00:00<00:03, 13.63it/s]"
          ]
        },
        {
          "output_type": "stream",
          "name": "stdout",
          "text": [
            "Error processing ./black/angry8.jpg: list indices must be integers or slices, not str\n",
            "Error processing ./black/happy12.jpg: list indices must be integers or slices, not str\n",
            "Error processing ./black/angry2.jpg: list indices must be integers or slices, not str\n",
            "Error processing ./black/angry11.jpg: list indices must be integers or slices, not str\n"
          ]
        },
        {
          "output_type": "stream",
          "name": "stderr",
          "text": [
            "\rProcessing black:  13%|█▎        | 6/45 [00:00<00:02, 13.91it/s]"
          ]
        },
        {
          "output_type": "stream",
          "name": "stdout",
          "text": [
            "Error processing ./black/sad7.jpg: list indices must be integers or slices, not str\n",
            "Error processing ./black/happy15.jpg: list indices must be integers or slices, not str\n",
            "Error processing ./black/sad13.jpg: list indices must be integers or slices, not str\n"
          ]
        },
        {
          "output_type": "stream",
          "name": "stderr",
          "text": [
            "Processing black:  22%|██▏       | 10/45 [00:00<00:02, 13.10it/s]"
          ]
        },
        {
          "output_type": "stream",
          "name": "stdout",
          "text": [
            "Error processing ./black/happy4.jpg: list indices must be integers or slices, not str\n",
            "Error processing ./black/angry6.jpg: list indices must be integers or slices, not str\n",
            "Error processing ./black/angry5.jpg: list indices must be integers or slices, not str\n"
          ]
        },
        {
          "output_type": "stream",
          "name": "stderr",
          "text": [
            "Processing black:  31%|███       | 14/45 [00:01<00:02, 13.79it/s]"
          ]
        },
        {
          "output_type": "stream",
          "name": "stdout",
          "text": [
            "Error processing ./black/angry14.jpg: list indices must be integers or slices, not str\n",
            "Error processing ./black/happy8.jpg: list indices must be integers or slices, not str\n",
            "Error processing ./black/happy13.jpg: list indices must be integers or slices, not str\n",
            "Error processing ./black/happy5.jpg: list indices must be integers or slices, not str\n"
          ]
        },
        {
          "output_type": "stream",
          "name": "stderr",
          "text": [
            "Processing black:  40%|████      | 18/45 [00:01<00:01, 15.23it/s]"
          ]
        },
        {
          "output_type": "stream",
          "name": "stdout",
          "text": [
            "Error processing ./black/angry15.jpg: list indices must be integers or slices, not str\n",
            "Error processing ./black/sad1.jpg: list indices must be integers or slices, not str\n",
            "Error processing ./black/happy14.jpg: list indices must be integers or slices, not str\n",
            "Error processing ./black/sad6.jpg: list indices must be integers or slices, not str\n"
          ]
        },
        {
          "output_type": "stream",
          "name": "stderr",
          "text": [
            "\rProcessing black:  44%|████▍     | 20/45 [00:01<00:01, 14.26it/s]"
          ]
        },
        {
          "output_type": "stream",
          "name": "stdout",
          "text": [
            "Error processing ./black/sad5.jpg: list indices must be integers or slices, not str\n",
            "Error processing ./black/sad12.jpg: list indices must be integers or slices, not str\n",
            "Error processing ./black/angry1.jpg: list indices must be integers or slices, not str\n"
          ]
        },
        {
          "output_type": "stream",
          "name": "stderr",
          "text": [
            "\rProcessing black:  49%|████▉     | 22/45 [00:01<00:01, 14.24it/s]"
          ]
        },
        {
          "output_type": "stream",
          "name": "stdout",
          "text": [
            "Error processing ./black/angry9.jpg: list indices must be integers or slices, not str\n",
            "Error processing ./black/happy10.jpg: list indices must be integers or slices, not str\n"
          ]
        },
        {
          "output_type": "stream",
          "name": "stderr",
          "text": [
            "\rProcessing black:  53%|█████▎    | 24/45 [00:01<00:01, 11.89it/s]"
          ]
        },
        {
          "output_type": "stream",
          "name": "stdout",
          "text": [
            "Error processing ./black/sad3.jpg: list indices must be integers or slices, not str\n",
            "Error processing ./black/happy9.jpg: list indices must be integers or slices, not str\n"
          ]
        },
        {
          "output_type": "stream",
          "name": "stderr",
          "text": [
            "Processing black:  62%|██████▏   | 28/45 [00:02<00:01, 10.01it/s]"
          ]
        },
        {
          "output_type": "stream",
          "name": "stdout",
          "text": [
            "Error processing ./black/happy6.jpg: list indices must be integers or slices, not str\n",
            "Error processing ./black/sad10.jpg: list indices must be integers or slices, not str\n",
            "Error processing ./black/sad8.jpg: list indices must be integers or slices, not str\n"
          ]
        },
        {
          "output_type": "stream",
          "name": "stderr",
          "text": [
            "\rProcessing black:  67%|██████▋   | 30/45 [00:02<00:01,  9.37it/s]"
          ]
        },
        {
          "output_type": "stream",
          "name": "stdout",
          "text": [
            "Error processing ./black/angry12.jpg: list indices must be integers or slices, not str\n",
            "Error processing ./black/sad4.jpg: list indices must be integers or slices, not str\n"
          ]
        },
        {
          "output_type": "stream",
          "name": "stderr",
          "text": [
            "\rProcessing black:  71%|███████   | 32/45 [00:02<00:01,  8.41it/s]"
          ]
        },
        {
          "output_type": "stream",
          "name": "stdout",
          "text": [
            "Error processing ./black/happy7.jpg: list indices must be integers or slices, not str\n",
            "Error processing ./black/angry7.jpg: list indices must be integers or slices, not str\n",
            "Error processing ./black/angry4.jpg: list indices must be integers or slices, not str\n"
          ]
        },
        {
          "output_type": "stream",
          "name": "stderr",
          "text": [
            "\rProcessing black:  76%|███████▌  | 34/45 [00:03<00:01,  9.06it/s]"
          ]
        },
        {
          "output_type": "stream",
          "name": "stdout",
          "text": [
            "Error processing ./black/happy2.jpg: list indices must be integers or slices, not str\n",
            "Error processing ./black/sad11.jpg: list indices must be integers or slices, not str\n"
          ]
        },
        {
          "output_type": "stream",
          "name": "stderr",
          "text": [
            "Processing black:  82%|████████▏ | 37/45 [00:03<00:00,  8.62it/s]"
          ]
        },
        {
          "output_type": "stream",
          "name": "stdout",
          "text": [
            "Error processing ./black/angry10.jpg: list indices must be integers or slices, not str\n",
            "Error processing ./black/angry3.jpg: list indices must be integers or slices, not str\n"
          ]
        },
        {
          "output_type": "stream",
          "name": "stderr",
          "text": [
            "Processing black:  89%|████████▉ | 40/45 [00:03<00:00,  9.47it/s]"
          ]
        },
        {
          "output_type": "stream",
          "name": "stdout",
          "text": [
            "Error processing ./black/happy1.jpg: list indices must be integers or slices, not str\n",
            "Error processing ./black/sad14.jpg: list indices must be integers or slices, not str\n",
            "Error processing ./black/happy11.jpg: list indices must be integers or slices, not str\n"
          ]
        },
        {
          "output_type": "stream",
          "name": "stderr",
          "text": [
            "\rProcessing black:  93%|█████████▎| 42/45 [00:04<00:00,  8.42it/s]"
          ]
        },
        {
          "output_type": "stream",
          "name": "stdout",
          "text": [
            "Error processing ./black/sad2.jpg: list indices must be integers or slices, not str\n",
            "Error processing ./black/angry13.jpg: list indices must be integers or slices, not str\n"
          ]
        },
        {
          "output_type": "stream",
          "name": "stderr",
          "text": [
            "Processing black: 100%|██████████| 45/45 [00:04<00:00, 10.23it/s]"
          ]
        },
        {
          "output_type": "stream",
          "name": "stdout",
          "text": [
            "Error processing ./black/happy3.jpg: list indices must be integers or slices, not str\n",
            "Error processing ./black/sad15.jpg: list indices must be integers or slices, not str\n",
            "Error processing ./black/sad9.jpg: list indices must be integers or slices, not str\n"
          ]
        },
        {
          "output_type": "stream",
          "name": "stderr",
          "text": [
            "\n"
          ]
        },
        {
          "output_type": "execute_result",
          "data": {
            "text/plain": [
              "Empty DataFrame\n",
              "Columns: []\n",
              "Index: []"
            ],
            "text/html": [
              "\n",
              "  <div id=\"df-6511876b-0792-43ad-84a8-7b2feeb40699\" class=\"colab-df-container\">\n",
              "    <div>\n",
              "<style scoped>\n",
              "    .dataframe tbody tr th:only-of-type {\n",
              "        vertical-align: middle;\n",
              "    }\n",
              "\n",
              "    .dataframe tbody tr th {\n",
              "        vertical-align: top;\n",
              "    }\n",
              "\n",
              "    .dataframe thead th {\n",
              "        text-align: right;\n",
              "    }\n",
              "</style>\n",
              "<table border=\"1\" class=\"dataframe\">\n",
              "  <thead>\n",
              "    <tr style=\"text-align: right;\">\n",
              "      <th></th>\n",
              "    </tr>\n",
              "  </thead>\n",
              "  <tbody>\n",
              "  </tbody>\n",
              "</table>\n",
              "</div>\n",
              "    <div class=\"colab-df-buttons\">\n",
              "\n",
              "  <div class=\"colab-df-container\">\n",
              "    <button class=\"colab-df-convert\" onclick=\"convertToInteractive('df-6511876b-0792-43ad-84a8-7b2feeb40699')\"\n",
              "            title=\"Convert this dataframe to an interactive table.\"\n",
              "            style=\"display:none;\">\n",
              "\n",
              "  <svg xmlns=\"http://www.w3.org/2000/svg\" height=\"24px\" viewBox=\"0 -960 960 960\">\n",
              "    <path d=\"M120-120v-720h720v720H120Zm60-500h600v-160H180v160Zm220 220h160v-160H400v160Zm0 220h160v-160H400v160ZM180-400h160v-160H180v160Zm440 0h160v-160H620v160ZM180-180h160v-160H180v160Zm440 0h160v-160H620v160Z\"/>\n",
              "  </svg>\n",
              "    </button>\n",
              "\n",
              "  <style>\n",
              "    .colab-df-container {\n",
              "      display:flex;\n",
              "      gap: 12px;\n",
              "    }\n",
              "\n",
              "    .colab-df-convert {\n",
              "      background-color: #E8F0FE;\n",
              "      border: none;\n",
              "      border-radius: 50%;\n",
              "      cursor: pointer;\n",
              "      display: none;\n",
              "      fill: #1967D2;\n",
              "      height: 32px;\n",
              "      padding: 0 0 0 0;\n",
              "      width: 32px;\n",
              "    }\n",
              "\n",
              "    .colab-df-convert:hover {\n",
              "      background-color: #E2EBFA;\n",
              "      box-shadow: 0px 1px 2px rgba(60, 64, 67, 0.3), 0px 1px 3px 1px rgba(60, 64, 67, 0.15);\n",
              "      fill: #174EA6;\n",
              "    }\n",
              "\n",
              "    .colab-df-buttons div {\n",
              "      margin-bottom: 4px;\n",
              "    }\n",
              "\n",
              "    [theme=dark] .colab-df-convert {\n",
              "      background-color: #3B4455;\n",
              "      fill: #D2E3FC;\n",
              "    }\n",
              "\n",
              "    [theme=dark] .colab-df-convert:hover {\n",
              "      background-color: #434B5C;\n",
              "      box-shadow: 0px 1px 3px 1px rgba(0, 0, 0, 0.15);\n",
              "      filter: drop-shadow(0px 1px 2px rgba(0, 0, 0, 0.3));\n",
              "      fill: #FFFFFF;\n",
              "    }\n",
              "  </style>\n",
              "\n",
              "    <script>\n",
              "      const buttonEl =\n",
              "        document.querySelector('#df-6511876b-0792-43ad-84a8-7b2feeb40699 button.colab-df-convert');\n",
              "      buttonEl.style.display =\n",
              "        google.colab.kernel.accessAllowed ? 'block' : 'none';\n",
              "\n",
              "      async function convertToInteractive(key) {\n",
              "        const element = document.querySelector('#df-6511876b-0792-43ad-84a8-7b2feeb40699');\n",
              "        const dataTable =\n",
              "          await google.colab.kernel.invokeFunction('convertToInteractive',\n",
              "                                                    [key], {});\n",
              "        if (!dataTable) return;\n",
              "\n",
              "        const docLinkHtml = 'Like what you see? Visit the ' +\n",
              "          '<a target=\"_blank\" href=https://colab.research.google.com/notebooks/data_table.ipynb>data table notebook</a>'\n",
              "          + ' to learn more about interactive tables.';\n",
              "        element.innerHTML = '';\n",
              "        dataTable['output_type'] = 'display_data';\n",
              "        await google.colab.output.renderOutput(dataTable, element);\n",
              "        const docLink = document.createElement('div');\n",
              "        docLink.innerHTML = docLinkHtml;\n",
              "        element.appendChild(docLink);\n",
              "      }\n",
              "    </script>\n",
              "  </div>\n",
              "\n",
              "\n",
              "    </div>\n",
              "  </div>\n"
            ],
            "application/vnd.google.colaboratory.intrinsic+json": {
              "type": "dataframe",
              "variable_name": "df_ferplus",
              "summary": "{\n  \"name\": \"df_ferplus\",\n  \"rows\": 0,\n  \"fields\": []\n}"
            }
          },
          "metadata": {},
          "execution_count": 14
        }
      ]
    },
    {
      "source": [
        "from deepface import DeepFace\n",
        "import pandas as pd\n",
        "import os\n",
        "from tqdm import tqdm\n",
        "\n",
        "# 設定你的資料夾\n",
        "root_folder = './'\n",
        "groups = ['caucasian', 'asian', 'black']\n",
        "\n",
        "results = []\n",
        "\n",
        "for group in groups:\n",
        "    folder = os.path.join(root_folder, group)\n",
        "    # Print the folder path to check if it is correct\n",
        "    print(f\"Processing folder: {folder}\")\n",
        "    for file in tqdm(os.listdir(folder), desc=f'Processing {group}'):\n",
        "        if file.endswith('.jpg') or file.endswith('.png'):\n",
        "            filepath = os.path.join(folder, file)\n",
        "\n",
        "            # Print the filepath to check if files are being found\n",
        "            print(f\"Processing file: {filepath}\")\n",
        "from deepface import DeepFace\n",
        "import pandas as pd\n",
        "import os\n",
        "from tqdm import tqdm\n",
        "\n",
        "# 設定你的資料夾\n",
        "root_folder = './'\n",
        "groups = ['caucasian', 'asian', 'black']\n",
        "\n",
        "results = []\n",
        "\n",
        "for group in groups:\n",
        "    folder = os.path.join(root_folder, group)\n",
        "    # Print the folder path to check if it is correct\n",
        "    print(f\"Processing folder: {folder}\")\n",
        "    for file in tqdm(os.listdir(folder), desc=f'Processing {group}'):\n",
        "        if file.endswith('.jpg') or file.endswith('.png'):\n",
        "            filepath = os.path.join(folder, file)\n",
        "\n",
        "            # Print the filepath to check if files are being found\n",
        "            print(f\"Processing file: {filepath}\")\n",
        "            try:\n",
        "                prediction = DeepFace.analyze(filepath, actions=['emotion'], enforce_detection=False, detector_backend='opencv')\n",
        "\n",
        "                # 取出最大情緒\n",
        "                pred_emotion = max(prediction[0]['emotion'], key=prediction[0]['emotion'].get)\n",
        "                results.append([group, file, pred_emotion])\n",
        "            except Exception as e:\n",
        "                print(f\"Error processing {filepath}: {e}\")\n",
        "                results.append([group, file, \"Error\"])\n",
        "                continue\n",
        "df = pd.DataFrame(results, columns=['race', 'file', 'emotion'])\n",
        "print(df)\n",
        "from tqdm import tqdm\n",
        "\n",
        "# 設定你的資料夾\n",
        "root_folder = './'\n",
        "groups = ['caucasian', 'asian', 'black']\n",
        "\n",
        "results = []\n",
        "\n",
        "for group in groups:\n",
        "    folder = os.path.join(root_folder, group)\n",
        "    # Print the folder path to check if it is correct\n",
        "    print(f\"Processing folder: {folder}\")\n",
        "    for file in tqdm(os.listdir(folder), desc=f'Processing {group}'):\n",
        "        if file.endswith('.jpg') or file.endswith('.png'):\n",
        "            filepath = os.path.join(folder, file)\n",
        "\n",
        "            # Print the filepath to check if files are being found\n",
        "            print(f\"Processing file: {filepath}\")\n",
        "            try:\n",
        "                prediction = DeepFace.analyze(filepath, actions=['emotion'], enforce_detection=False, detector_backend='opencv')\n",
        "\n",
        "                # 取出最大情緒\n",
        "                pred_emotion = max(prediction[0]['emotion'], key=prediction[0]['emotion'].get)\n",
        "                results.append([group, file, pred_emotion])\n",
        "            except Exception as e:\n",
        "                print(f\"Error processing {filepath}: {e}\")\n",
        "                results.append([group, file, \"Error\"])\n",
        "                continue\n",
        "df = pd.DataFrame(results, columns=['race', 'file', 'emotion'])\n",
        "print(df)"
      ],
      "cell_type": "code",
      "metadata": {
        "id": "xtzw520jj09p",
        "colab": {
          "base_uri": "https://localhost:8080/"
        },
        "outputId": "22ee91f0-a6ff-484b-e446-9ee39c2a7c5e"
      },
      "execution_count": null,
      "outputs": [
        {
          "output_type": "stream",
          "name": "stdout",
          "text": [
            "Processing folder: ./caucasian\n"
          ]
        },
        {
          "output_type": "stream",
          "name": "stderr",
          "text": [
            "Processing caucasian: 100%|██████████| 45/45 [00:00<00:00, 89579.35it/s]\n"
          ]
        },
        {
          "output_type": "stream",
          "name": "stdout",
          "text": [
            "Processing file: ./caucasian/angry8.jpg\n",
            "Processing file: ./caucasian/happy12.jpg\n",
            "Processing file: ./caucasian/angry2.jpg\n",
            "Processing file: ./caucasian/angry11.jpg\n",
            "Processing file: ./caucasian/sad7.jpg\n",
            "Processing file: ./caucasian/happy15.jpg\n",
            "Processing file: ./caucasian/sad13.jpg\n",
            "Processing file: ./caucasian/happy4.jpg\n",
            "Processing file: ./caucasian/angry6.jpg\n",
            "Processing file: ./caucasian/angry5.jpg\n",
            "Processing file: ./caucasian/angry14.jpg\n",
            "Processing file: ./caucasian/happy8.jpg\n",
            "Processing file: ./caucasian/happy13.jpg\n",
            "Processing file: ./caucasian/happy5.jpg\n",
            "Processing file: ./caucasian/angry15.jpg\n",
            "Processing file: ./caucasian/sad1.jpg\n",
            "Processing file: ./caucasian/happy14.jpg\n",
            "Processing file: ./caucasian/sad6.jpg\n",
            "Processing file: ./caucasian/sad5.jpg\n",
            "Processing file: ./caucasian/sad12.jpg\n",
            "Processing file: ./caucasian/angry1.jpg\n",
            "Processing file: ./caucasian/angry9.jpg\n",
            "Processing file: ./caucasian/happy10.jpg\n",
            "Processing file: ./caucasian/sad3.jpg\n",
            "Processing file: ./caucasian/happy9.jpg\n",
            "Processing file: ./caucasian/happy6.jpg\n",
            "Processing file: ./caucasian/sad10.jpg\n",
            "Processing file: ./caucasian/sad8.jpg\n",
            "Processing file: ./caucasian/angry12.jpg\n",
            "Processing file: ./caucasian/sad4.jpg\n",
            "Processing file: ./caucasian/happy7.jpg\n",
            "Processing file: ./caucasian/angry7.jpg\n",
            "Processing file: ./caucasian/angry4.jpg\n",
            "Processing file: ./caucasian/happy2.jpg\n",
            "Processing file: ./caucasian/sad11.jpg\n",
            "Processing file: ./caucasian/angry10.jpg\n",
            "Processing file: ./caucasian/angry3.jpg\n",
            "Processing file: ./caucasian/happy1.jpg\n",
            "Processing file: ./caucasian/sad14.jpg\n",
            "Processing file: ./caucasian/happy11.jpg\n",
            "Processing file: ./caucasian/sad2.jpg\n",
            "Processing file: ./caucasian/angry13.jpg\n",
            "Processing file: ./caucasian/happy3.jpg\n",
            "Processing file: ./caucasian/sad15.jpg\n",
            "Processing file: ./caucasian/sad9.jpg\n",
            "Processing folder: ./asian\n"
          ]
        },
        {
          "output_type": "stream",
          "name": "stderr",
          "text": [
            "Processing asian: 100%|██████████| 45/45 [00:00<00:00, 76014.37it/s]\n"
          ]
        },
        {
          "output_type": "stream",
          "name": "stdout",
          "text": [
            "Processing file: ./asian/angry8.jpg\n",
            "Processing file: ./asian/happy12.jpg\n",
            "Processing file: ./asian/angry2.jpg\n",
            "Processing file: ./asian/angry11.jpg\n",
            "Processing file: ./asian/sad7.jpg\n",
            "Processing file: ./asian/happy15.jpg\n",
            "Processing file: ./asian/sad13.jpg\n",
            "Processing file: ./asian/happy4.jpg\n",
            "Processing file: ./asian/angry6.jpg\n",
            "Processing file: ./asian/angry5.jpg\n",
            "Processing file: ./asian/angry14.jpg\n",
            "Processing file: ./asian/happy8.jpg\n",
            "Processing file: ./asian/happy13.jpg\n",
            "Processing file: ./asian/happy5.jpg\n",
            "Processing file: ./asian/angry15.jpg\n",
            "Processing file: ./asian/sad1.jpg\n",
            "Processing file: ./asian/happy14.jpg\n",
            "Processing file: ./asian/sad6.jpg\n",
            "Processing file: ./asian/sad5.jpg\n",
            "Processing file: ./asian/sad12.jpg\n",
            "Processing file: ./asian/angry1.jpg\n",
            "Processing file: ./asian/angry9.jpg\n",
            "Processing file: ./asian/happy10.jpg\n",
            "Processing file: ./asian/sad3.jpg\n",
            "Processing file: ./asian/happy9.jpg\n",
            "Processing file: ./asian/happy6.jpg\n",
            "Processing file: ./asian/sad10.jpg\n",
            "Processing file: ./asian/sad8.jpg\n",
            "Processing file: ./asian/angry12.jpg\n",
            "Processing file: ./asian/sad4.jpg\n",
            "Processing file: ./asian/happy7.jpg\n",
            "Processing file: ./asian/angry7.jpg\n",
            "Processing file: ./asian/angry4.jpg\n",
            "Processing file: ./asian/happy2.jpg\n",
            "Processing file: ./asian/sad11.jpg\n",
            "Processing file: ./asian/angry10.jpg\n",
            "Processing file: ./asian/angry3.jpg\n",
            "Processing file: ./asian/happy1.jpg\n",
            "Processing file: ./asian/sad14.jpg\n",
            "Processing file: ./asian/happy11.jpg\n",
            "Processing file: ./asian/sad2.jpg\n",
            "Processing file: ./asian/angry13.jpg\n",
            "Processing file: ./asian/happy3.jpg\n",
            "Processing file: ./asian/sad15.jpg\n",
            "Processing file: ./asian/sad9.jpg\n",
            "Processing folder: ./black\n"
          ]
        },
        {
          "output_type": "stream",
          "name": "stderr",
          "text": [
            "Processing black: 100%|██████████| 45/45 [00:00<00:00, 84373.57it/s]\n"
          ]
        },
        {
          "output_type": "stream",
          "name": "stdout",
          "text": [
            "Processing file: ./black/angry8.jpg\n",
            "Processing file: ./black/happy12.jpg\n",
            "Processing file: ./black/angry2.jpg\n",
            "Processing file: ./black/angry11.jpg\n",
            "Processing file: ./black/sad7.jpg\n",
            "Processing file: ./black/happy15.jpg\n",
            "Processing file: ./black/sad13.jpg\n",
            "Processing file: ./black/happy4.jpg\n",
            "Processing file: ./black/angry6.jpg\n",
            "Processing file: ./black/angry5.jpg\n",
            "Processing file: ./black/angry14.jpg\n",
            "Processing file: ./black/happy8.jpg\n",
            "Processing file: ./black/happy13.jpg\n",
            "Processing file: ./black/happy5.jpg\n",
            "Processing file: ./black/angry15.jpg\n",
            "Processing file: ./black/sad1.jpg\n",
            "Processing file: ./black/happy14.jpg\n",
            "Processing file: ./black/sad6.jpg\n",
            "Processing file: ./black/sad5.jpg\n",
            "Processing file: ./black/sad12.jpg\n",
            "Processing file: ./black/angry1.jpg\n",
            "Processing file: ./black/angry9.jpg\n",
            "Processing file: ./black/happy10.jpg\n",
            "Processing file: ./black/sad3.jpg\n",
            "Processing file: ./black/happy9.jpg\n",
            "Processing file: ./black/happy6.jpg\n",
            "Processing file: ./black/sad10.jpg\n",
            "Processing file: ./black/sad8.jpg\n",
            "Processing file: ./black/angry12.jpg\n",
            "Processing file: ./black/sad4.jpg\n",
            "Processing file: ./black/happy7.jpg\n",
            "Processing file: ./black/angry7.jpg\n",
            "Processing file: ./black/angry4.jpg\n",
            "Processing file: ./black/happy2.jpg\n",
            "Processing file: ./black/sad11.jpg\n",
            "Processing file: ./black/angry10.jpg\n",
            "Processing file: ./black/angry3.jpg\n",
            "Processing file: ./black/happy1.jpg\n",
            "Processing file: ./black/sad14.jpg\n",
            "Processing file: ./black/happy11.jpg\n",
            "Processing file: ./black/sad2.jpg\n",
            "Processing file: ./black/angry13.jpg\n",
            "Processing file: ./black/happy3.jpg\n",
            "Processing file: ./black/sad15.jpg\n",
            "Processing file: ./black/sad9.jpg\n",
            "Processing folder: ./caucasian\n"
          ]
        },
        {
          "output_type": "stream",
          "name": "stderr",
          "text": [
            "Processing caucasian:   2%|▏         | 1/45 [00:00<00:07,  6.08it/s]"
          ]
        },
        {
          "output_type": "stream",
          "name": "stdout",
          "text": [
            "Processing file: ./caucasian/angry8.jpg\n",
            "Processing file: ./caucasian/happy12.jpg\n"
          ]
        },
        {
          "output_type": "stream",
          "name": "stderr",
          "text": [
            "Processing caucasian:   7%|▋         | 3/45 [00:00<00:06,  6.57it/s]"
          ]
        },
        {
          "output_type": "stream",
          "name": "stdout",
          "text": [
            "Processing file: ./caucasian/angry2.jpg\n",
            "Processing file: ./caucasian/angry11.jpg\n"
          ]
        },
        {
          "output_type": "stream",
          "name": "stderr",
          "text": [
            "\rProcessing caucasian:  11%|█         | 5/45 [00:00<00:04,  9.14it/s]"
          ]
        },
        {
          "output_type": "stream",
          "name": "stdout",
          "text": [
            "Processing file: ./caucasian/sad7.jpg\n",
            "Processing file: ./caucasian/happy15.jpg\n"
          ]
        },
        {
          "output_type": "stream",
          "name": "stderr",
          "text": [
            "Processing caucasian:  18%|█▊        | 8/45 [00:00<00:03,  9.45it/s]"
          ]
        },
        {
          "output_type": "stream",
          "name": "stdout",
          "text": [
            "Processing file: ./caucasian/sad13.jpg\n",
            "Processing file: ./caucasian/happy4.jpg\n",
            "Processing file: ./caucasian/angry6.jpg\n"
          ]
        },
        {
          "output_type": "stream",
          "name": "stderr",
          "text": [
            "Processing caucasian:  22%|██▏       | 10/45 [00:01<00:03,  9.29it/s]"
          ]
        },
        {
          "output_type": "stream",
          "name": "stdout",
          "text": [
            "Processing file: ./caucasian/angry5.jpg\n",
            "Processing file: ./caucasian/angry14.jpg\n"
          ]
        },
        {
          "output_type": "stream",
          "name": "stderr",
          "text": [
            "Processing caucasian:  27%|██▋       | 12/45 [00:01<00:03,  9.07it/s]"
          ]
        },
        {
          "output_type": "stream",
          "name": "stdout",
          "text": [
            "Processing file: ./caucasian/happy8.jpg\n",
            "Processing file: ./caucasian/happy13.jpg\n"
          ]
        },
        {
          "output_type": "stream",
          "name": "stderr",
          "text": [
            "Processing caucasian:  31%|███       | 14/45 [00:01<00:03,  8.66it/s]"
          ]
        },
        {
          "output_type": "stream",
          "name": "stdout",
          "text": [
            "Processing file: ./caucasian/happy5.jpg\n",
            "Processing file: ./caucasian/angry15.jpg\n",
            "Processing file: ./caucasian/sad1.jpg\n"
          ]
        },
        {
          "output_type": "stream",
          "name": "stderr",
          "text": [
            "Processing caucasian:  40%|████      | 18/45 [00:01<00:02, 11.24it/s]"
          ]
        },
        {
          "output_type": "stream",
          "name": "stdout",
          "text": [
            "Processing file: ./caucasian/happy14.jpg\n",
            "Processing file: ./caucasian/sad6.jpg\n",
            "Processing file: ./caucasian/sad5.jpg\n"
          ]
        },
        {
          "output_type": "stream",
          "name": "stderr",
          "text": [
            "\rProcessing caucasian:  44%|████▍     | 20/45 [00:02<00:02, 10.52it/s]"
          ]
        },
        {
          "output_type": "stream",
          "name": "stdout",
          "text": [
            "Processing file: ./caucasian/sad12.jpg\n",
            "Processing file: ./caucasian/angry1.jpg\n",
            "Processing file: ./caucasian/angry9.jpg\n"
          ]
        },
        {
          "output_type": "stream",
          "name": "stderr",
          "text": [
            "Processing caucasian:  53%|█████▎    | 24/45 [00:02<00:01, 10.98it/s]"
          ]
        },
        {
          "output_type": "stream",
          "name": "stdout",
          "text": [
            "Processing file: ./caucasian/happy10.jpg\n",
            "Processing file: ./caucasian/sad3.jpg\n",
            "Processing file: ./caucasian/happy9.jpg\n"
          ]
        },
        {
          "output_type": "stream",
          "name": "stderr",
          "text": [
            "Processing caucasian:  62%|██████▏   | 28/45 [00:02<00:01, 12.41it/s]"
          ]
        },
        {
          "output_type": "stream",
          "name": "stdout",
          "text": [
            "Processing file: ./caucasian/happy6.jpg\n",
            "Processing file: ./caucasian/sad10.jpg\n",
            "Processing file: ./caucasian/sad8.jpg\n",
            "Processing file: ./caucasian/angry12.jpg\n"
          ]
        },
        {
          "output_type": "stream",
          "name": "stderr",
          "text": [
            "\rProcessing caucasian:  67%|██████▋   | 30/45 [00:03<00:01, 10.41it/s]"
          ]
        },
        {
          "output_type": "stream",
          "name": "stdout",
          "text": [
            "Processing file: ./caucasian/sad4.jpg\n",
            "Processing file: ./caucasian/happy7.jpg\n"
          ]
        },
        {
          "output_type": "stream",
          "name": "stderr",
          "text": [
            "\rProcessing caucasian:  71%|███████   | 32/45 [00:03<00:01,  8.99it/s]"
          ]
        },
        {
          "output_type": "stream",
          "name": "stdout",
          "text": [
            "Processing file: ./caucasian/angry7.jpg\n",
            "Processing file: ./caucasian/angry4.jpg\n"
          ]
        },
        {
          "output_type": "stream",
          "name": "stderr",
          "text": [
            "\rProcessing caucasian:  76%|███████▌  | 34/45 [00:03<00:01,  9.15it/s]"
          ]
        },
        {
          "output_type": "stream",
          "name": "stdout",
          "text": [
            "Processing file: ./caucasian/happy2.jpg\n",
            "Processing file: ./caucasian/sad11.jpg\n"
          ]
        },
        {
          "output_type": "stream",
          "name": "stderr",
          "text": [
            "Processing caucasian:  80%|████████  | 36/45 [00:03<00:01,  7.72it/s]"
          ]
        },
        {
          "output_type": "stream",
          "name": "stdout",
          "text": [
            "Processing file: ./caucasian/angry10.jpg\n"
          ]
        },
        {
          "output_type": "stream",
          "name": "stderr",
          "text": [
            "\rProcessing caucasian:  82%|████████▏ | 37/45 [00:04<00:01,  6.99it/s]"
          ]
        },
        {
          "output_type": "stream",
          "name": "stdout",
          "text": [
            "Processing file: ./caucasian/angry3.jpg\n",
            "Processing file: ./caucasian/happy1.jpg\n"
          ]
        },
        {
          "output_type": "stream",
          "name": "stderr",
          "text": [
            "Processing caucasian:  87%|████████▋ | 39/45 [00:04<00:00,  7.22it/s]"
          ]
        },
        {
          "output_type": "stream",
          "name": "stdout",
          "text": [
            "Processing file: ./caucasian/sad14.jpg\n",
            "Processing file: ./caucasian/happy11.jpg\n"
          ]
        },
        {
          "output_type": "stream",
          "name": "stderr",
          "text": [
            "Processing caucasian:  91%|█████████ | 41/45 [00:04<00:00,  6.54it/s]"
          ]
        },
        {
          "output_type": "stream",
          "name": "stdout",
          "text": [
            "Processing file: ./caucasian/sad2.jpg\n",
            "Processing file: ./caucasian/angry13.jpg\n"
          ]
        },
        {
          "output_type": "stream",
          "name": "stderr",
          "text": [
            "Processing caucasian:  96%|█████████▌| 43/45 [00:05<00:00,  6.00it/s]"
          ]
        },
        {
          "output_type": "stream",
          "name": "stdout",
          "text": [
            "Processing file: ./caucasian/happy3.jpg\n",
            "Processing file: ./caucasian/sad15.jpg\n"
          ]
        },
        {
          "output_type": "stream",
          "name": "stderr",
          "text": [
            "Processing caucasian: 100%|██████████| 45/45 [00:05<00:00,  8.32it/s]\n"
          ]
        },
        {
          "output_type": "stream",
          "name": "stdout",
          "text": [
            "Processing file: ./caucasian/sad9.jpg\n",
            "Processing folder: ./asian\n"
          ]
        },
        {
          "output_type": "stream",
          "name": "stderr",
          "text": [
            "\rProcessing asian:   0%|          | 0/45 [00:00<?, ?it/s]"
          ]
        },
        {
          "output_type": "stream",
          "name": "stdout",
          "text": [
            "Processing file: ./asian/angry8.jpg\n"
          ]
        },
        {
          "output_type": "stream",
          "name": "stderr",
          "text": [
            "\rProcessing asian:   2%|▏         | 1/45 [00:00<00:05,  7.99it/s]"
          ]
        },
        {
          "output_type": "stream",
          "name": "stdout",
          "text": [
            "Processing file: ./asian/happy12.jpg\n"
          ]
        },
        {
          "output_type": "stream",
          "name": "stderr",
          "text": [
            "\rProcessing asian:   4%|▍         | 2/45 [00:00<00:06,  6.28it/s]"
          ]
        },
        {
          "output_type": "stream",
          "name": "stdout",
          "text": [
            "Processing file: ./asian/angry2.jpg\n"
          ]
        },
        {
          "output_type": "stream",
          "name": "stderr",
          "text": [
            "\rProcessing asian:   7%|▋         | 3/45 [00:00<00:07,  5.54it/s]"
          ]
        },
        {
          "output_type": "stream",
          "name": "stdout",
          "text": [
            "Processing file: ./asian/angry11.jpg\n"
          ]
        },
        {
          "output_type": "stream",
          "name": "stderr",
          "text": [
            "Processing asian:  11%|█         | 5/45 [00:00<00:07,  5.46it/s]"
          ]
        },
        {
          "output_type": "stream",
          "name": "stdout",
          "text": [
            "Processing file: ./asian/sad7.jpg\n",
            "Processing file: ./asian/happy15.jpg\n"
          ]
        },
        {
          "output_type": "stream",
          "name": "stderr",
          "text": [
            "Processing asian:  16%|█▌        | 7/45 [00:01<00:07,  5.25it/s]"
          ]
        },
        {
          "output_type": "stream",
          "name": "stdout",
          "text": [
            "Processing file: ./asian/sad13.jpg\n",
            "Processing file: ./asian/happy4.jpg\n"
          ]
        },
        {
          "output_type": "stream",
          "name": "stderr",
          "text": [
            "Processing asian:  20%|██        | 9/45 [00:01<00:06,  5.49it/s]"
          ]
        },
        {
          "output_type": "stream",
          "name": "stdout",
          "text": [
            "Processing file: ./asian/angry6.jpg\n",
            "Processing file: ./asian/angry5.jpg\n"
          ]
        },
        {
          "output_type": "stream",
          "name": "stderr",
          "text": [
            "\rProcessing asian:  22%|██▏       | 10/45 [00:01<00:05,  6.15it/s]"
          ]
        },
        {
          "output_type": "stream",
          "name": "stdout",
          "text": [
            "Processing file: ./asian/angry14.jpg\n"
          ]
        },
        {
          "output_type": "stream",
          "name": "stderr",
          "text": [
            "Processing asian:  27%|██▋       | 12/45 [00:02<00:06,  5.03it/s]"
          ]
        },
        {
          "output_type": "stream",
          "name": "stdout",
          "text": [
            "Processing file: ./asian/happy8.jpg\n",
            "Processing file: ./asian/happy13.jpg\n"
          ]
        },
        {
          "output_type": "stream",
          "name": "stderr",
          "text": [
            "Processing asian:  31%|███       | 14/45 [00:02<00:06,  5.09it/s]"
          ]
        },
        {
          "output_type": "stream",
          "name": "stdout",
          "text": [
            "Processing file: ./asian/happy5.jpg\n",
            "Processing file: ./asian/angry15.jpg\n"
          ]
        },
        {
          "output_type": "stream",
          "name": "stderr",
          "text": [
            "Processing asian:  36%|███▌      | 16/45 [00:03<00:05,  5.16it/s]"
          ]
        },
        {
          "output_type": "stream",
          "name": "stdout",
          "text": [
            "Processing file: ./asian/sad1.jpg\n",
            "Processing file: ./asian/happy14.jpg\n"
          ]
        },
        {
          "output_type": "stream",
          "name": "stderr",
          "text": [
            "Processing asian:  42%|████▏     | 19/45 [00:03<00:04,  6.34it/s]"
          ]
        },
        {
          "output_type": "stream",
          "name": "stdout",
          "text": [
            "Processing file: ./asian/sad6.jpg\n",
            "Processing file: ./asian/sad5.jpg\n",
            "Processing file: ./asian/sad12.jpg\n"
          ]
        },
        {
          "output_type": "stream",
          "name": "stderr",
          "text": [
            "\rProcessing asian:  44%|████▍     | 20/45 [00:03<00:04,  6.18it/s]"
          ]
        },
        {
          "output_type": "stream",
          "name": "stdout",
          "text": [
            "Processing file: ./asian/angry1.jpg\n"
          ]
        },
        {
          "output_type": "stream",
          "name": "stderr",
          "text": [
            "\rProcessing asian:  47%|████▋     | 21/45 [00:03<00:04,  5.10it/s]"
          ]
        },
        {
          "output_type": "stream",
          "name": "stdout",
          "text": [
            "Processing file: ./asian/angry9.jpg\n"
          ]
        },
        {
          "output_type": "stream",
          "name": "stderr",
          "text": [
            "\rProcessing asian:  49%|████▉     | 22/45 [00:04<00:04,  4.84it/s]"
          ]
        },
        {
          "output_type": "stream",
          "name": "stdout",
          "text": [
            "Processing file: ./asian/happy10.jpg\n",
            "Processing file: ./asian/sad3.jpg\n"
          ]
        },
        {
          "output_type": "stream",
          "name": "stderr",
          "text": [
            "\rProcessing asian:  53%|█████▎    | 24/45 [00:04<00:03,  5.96it/s]"
          ]
        },
        {
          "output_type": "stream",
          "name": "stdout",
          "text": [
            "Processing file: ./asian/happy9.jpg\n",
            "Processing file: ./asian/happy6.jpg\n"
          ]
        },
        {
          "output_type": "stream",
          "name": "stderr",
          "text": [
            "Processing asian:  60%|██████    | 27/45 [00:04<00:02,  6.73it/s]"
          ]
        },
        {
          "output_type": "stream",
          "name": "stdout",
          "text": [
            "Processing file: ./asian/sad10.jpg\n",
            "Processing file: ./asian/sad8.jpg\n"
          ]
        },
        {
          "output_type": "stream",
          "name": "stderr",
          "text": [
            "Processing asian:  64%|██████▍   | 29/45 [00:05<00:02,  6.32it/s]"
          ]
        },
        {
          "output_type": "stream",
          "name": "stdout",
          "text": [
            "Processing file: ./asian/angry12.jpg\n",
            "Processing file: ./asian/sad4.jpg\n"
          ]
        },
        {
          "output_type": "stream",
          "name": "stderr",
          "text": [
            "\rProcessing asian:  67%|██████▋   | 30/45 [00:05<00:02,  6.63it/s]"
          ]
        },
        {
          "output_type": "stream",
          "name": "stdout",
          "text": [
            "Processing file: ./asian/happy7.jpg\n"
          ]
        },
        {
          "output_type": "stream",
          "name": "stderr",
          "text": [
            "\rProcessing asian:  69%|██████▉   | 31/45 [00:05<00:02,  5.80it/s]"
          ]
        },
        {
          "output_type": "stream",
          "name": "stdout",
          "text": [
            "Processing file: ./asian/angry7.jpg\n"
          ]
        },
        {
          "output_type": "stream",
          "name": "stderr",
          "text": [
            "Processing asian:  73%|███████▎  | 33/45 [00:05<00:02,  5.64it/s]"
          ]
        },
        {
          "output_type": "stream",
          "name": "stdout",
          "text": [
            "Processing file: ./asian/angry4.jpg\n",
            "Processing file: ./asian/happy2.jpg\n"
          ]
        },
        {
          "output_type": "stream",
          "name": "stderr",
          "text": [
            "Processing asian:  78%|███████▊  | 35/45 [00:06<00:01,  5.32it/s]"
          ]
        },
        {
          "output_type": "stream",
          "name": "stdout",
          "text": [
            "Processing file: ./asian/sad11.jpg\n",
            "Processing file: ./asian/angry10.jpg\n"
          ]
        },
        {
          "output_type": "stream",
          "name": "stderr",
          "text": [
            "\rProcessing asian:  80%|████████  | 36/45 [00:06<00:01,  4.89it/s]"
          ]
        },
        {
          "output_type": "stream",
          "name": "stdout",
          "text": [
            "Processing file: ./asian/angry3.jpg\n"
          ]
        },
        {
          "output_type": "stream",
          "name": "stderr",
          "text": [
            "\rProcessing asian:  82%|████████▏ | 37/45 [00:06<00:02,  3.96it/s]"
          ]
        },
        {
          "output_type": "stream",
          "name": "stdout",
          "text": [
            "Processing file: ./asian/happy1.jpg\n"
          ]
        },
        {
          "output_type": "stream",
          "name": "stderr",
          "text": [
            "\rProcessing asian:  84%|████████▍ | 38/45 [00:07<00:02,  3.10it/s]"
          ]
        },
        {
          "output_type": "stream",
          "name": "stdout",
          "text": [
            "Processing file: ./asian/sad14.jpg\n"
          ]
        },
        {
          "output_type": "stream",
          "name": "stderr",
          "text": [
            "\rProcessing asian:  87%|████████▋ | 39/45 [00:07<00:01,  3.07it/s]"
          ]
        },
        {
          "output_type": "stream",
          "name": "stdout",
          "text": [
            "Processing file: ./asian/happy11.jpg\n"
          ]
        },
        {
          "output_type": "stream",
          "name": "stderr",
          "text": [
            "Processing asian:  91%|█████████ | 41/45 [00:08<00:01,  3.61it/s]"
          ]
        },
        {
          "output_type": "stream",
          "name": "stdout",
          "text": [
            "Processing file: ./asian/sad2.jpg\n",
            "Processing file: ./asian/angry13.jpg\n"
          ]
        },
        {
          "output_type": "stream",
          "name": "stderr",
          "text": [
            "\rProcessing asian:  93%|█████████▎| 42/45 [00:08<00:00,  4.06it/s]"
          ]
        },
        {
          "output_type": "stream",
          "name": "stdout",
          "text": [
            "Processing file: ./asian/happy3.jpg\n"
          ]
        },
        {
          "output_type": "stream",
          "name": "stderr",
          "text": [
            "Processing asian:  98%|█████████▊| 44/45 [00:08<00:00,  4.51it/s]"
          ]
        },
        {
          "output_type": "stream",
          "name": "stdout",
          "text": [
            "Processing file: ./asian/sad15.jpg\n",
            "Processing file: ./asian/sad9.jpg\n"
          ]
        },
        {
          "output_type": "stream",
          "name": "stderr",
          "text": [
            "Processing asian: 100%|██████████| 45/45 [00:08<00:00,  5.05it/s]\n"
          ]
        },
        {
          "output_type": "stream",
          "name": "stdout",
          "text": [
            "Processing folder: ./black\n"
          ]
        },
        {
          "output_type": "stream",
          "name": "stderr",
          "text": [
            "\rProcessing black:   0%|          | 0/45 [00:00<?, ?it/s]"
          ]
        },
        {
          "output_type": "stream",
          "name": "stdout",
          "text": [
            "Processing file: ./black/angry8.jpg\n"
          ]
        },
        {
          "output_type": "stream",
          "name": "stderr",
          "text": [
            "Processing black:   4%|▍         | 2/45 [00:00<00:08,  5.28it/s]"
          ]
        },
        {
          "output_type": "stream",
          "name": "stdout",
          "text": [
            "Processing file: ./black/happy12.jpg\n",
            "Processing file: ./black/angry2.jpg\n"
          ]
        },
        {
          "output_type": "stream",
          "name": "stderr",
          "text": [
            "\rProcessing black:   7%|▋         | 3/45 [00:00<00:06,  6.19it/s]"
          ]
        },
        {
          "output_type": "stream",
          "name": "stdout",
          "text": [
            "Processing file: ./black/angry11.jpg\n"
          ]
        },
        {
          "output_type": "stream",
          "name": "stderr",
          "text": [
            "Processing black:  11%|█         | 5/45 [00:00<00:06,  6.16it/s]"
          ]
        },
        {
          "output_type": "stream",
          "name": "stdout",
          "text": [
            "Processing file: ./black/sad7.jpg\n",
            "Processing file: ./black/happy15.jpg\n"
          ]
        },
        {
          "output_type": "stream",
          "name": "stderr",
          "text": [
            "\rProcessing black:  13%|█▎        | 6/45 [00:00<00:05,  6.89it/s]"
          ]
        },
        {
          "output_type": "stream",
          "name": "stdout",
          "text": [
            "Processing file: ./black/sad13.jpg\n",
            "Processing file: ./black/happy4.jpg\n"
          ]
        },
        {
          "output_type": "stream",
          "name": "stderr",
          "text": [
            "\rProcessing black:  18%|█▊        | 8/45 [00:01<00:05,  7.02it/s]"
          ]
        },
        {
          "output_type": "stream",
          "name": "stdout",
          "text": [
            "Processing file: ./black/angry6.jpg\n"
          ]
        },
        {
          "output_type": "stream",
          "name": "stderr",
          "text": [
            "Processing black:  22%|██▏       | 10/45 [00:01<00:05,  6.74it/s]"
          ]
        },
        {
          "output_type": "stream",
          "name": "stdout",
          "text": [
            "Processing file: ./black/angry5.jpg\n",
            "Processing file: ./black/angry14.jpg\n"
          ]
        },
        {
          "output_type": "stream",
          "name": "stderr",
          "text": [
            "Processing black:  27%|██▋       | 12/45 [00:02<00:05,  5.77it/s]"
          ]
        },
        {
          "output_type": "stream",
          "name": "stdout",
          "text": [
            "Processing file: ./black/happy8.jpg\n",
            "Processing file: ./black/happy13.jpg\n",
            "Processing file: ./black/happy5.jpg\n"
          ]
        },
        {
          "output_type": "stream",
          "name": "stderr",
          "text": [
            "Processing black:  36%|███▌      | 16/45 [00:02<00:02, 10.15it/s]"
          ]
        },
        {
          "output_type": "stream",
          "name": "stdout",
          "text": [
            "Processing file: ./black/angry15.jpg\n",
            "Processing file: ./black/sad1.jpg\n",
            "Processing file: ./black/happy14.jpg\n",
            "Processing file: ./black/sad6.jpg\n"
          ]
        },
        {
          "output_type": "stream",
          "name": "stderr",
          "text": [
            "Processing black:  44%|████▍     | 20/45 [00:02<00:01, 12.74it/s]"
          ]
        },
        {
          "output_type": "stream",
          "name": "stdout",
          "text": [
            "Processing file: ./black/sad5.jpg\n",
            "Processing file: ./black/sad12.jpg\n",
            "Processing file: ./black/angry1.jpg\n",
            "Processing file: ./black/angry9.jpg\n"
          ]
        },
        {
          "output_type": "stream",
          "name": "stderr",
          "text": [
            "Processing black:  53%|█████▎    | 24/45 [00:02<00:01, 12.39it/s]"
          ]
        },
        {
          "output_type": "stream",
          "name": "stdout",
          "text": [
            "Processing file: ./black/happy10.jpg\n",
            "Processing file: ./black/sad3.jpg\n",
            "Processing file: ./black/happy9.jpg\n"
          ]
        },
        {
          "output_type": "stream",
          "name": "stderr",
          "text": [
            "Processing black:  62%|██████▏   | 28/45 [00:03<00:01, 13.46it/s]"
          ]
        },
        {
          "output_type": "stream",
          "name": "stdout",
          "text": [
            "Processing file: ./black/happy6.jpg\n",
            "Processing file: ./black/sad10.jpg\n",
            "Processing file: ./black/sad8.jpg\n",
            "Processing file: ./black/angry12.jpg\n"
          ]
        },
        {
          "output_type": "stream",
          "name": "stderr",
          "text": [
            "\rProcessing black:  67%|██████▋   | 30/45 [00:03<00:01, 13.83it/s]"
          ]
        },
        {
          "output_type": "stream",
          "name": "stdout",
          "text": [
            "Processing file: ./black/sad4.jpg\n",
            "Processing file: ./black/happy7.jpg\n",
            "Processing file: ./black/angry7.jpg\n"
          ]
        },
        {
          "output_type": "stream",
          "name": "stderr",
          "text": [
            "Processing black:  76%|███████▌  | 34/45 [00:03<00:00, 13.60it/s]"
          ]
        },
        {
          "output_type": "stream",
          "name": "stdout",
          "text": [
            "Processing file: ./black/angry4.jpg\n",
            "Processing file: ./black/happy2.jpg\n",
            "Processing file: ./black/sad11.jpg\n",
            "Processing file: ./black/angry10.jpg\n"
          ]
        },
        {
          "output_type": "stream",
          "name": "stderr",
          "text": [
            "Processing black:  84%|████████▍ | 38/45 [00:03<00:00, 12.89it/s]"
          ]
        },
        {
          "output_type": "stream",
          "name": "stdout",
          "text": [
            "Processing file: ./black/angry3.jpg\n",
            "Processing file: ./black/happy1.jpg\n",
            "Processing file: ./black/sad14.jpg\n"
          ]
        },
        {
          "output_type": "stream",
          "name": "stderr",
          "text": [
            "\rProcessing black:  91%|█████████ | 41/45 [00:04<00:00, 13.67it/s]"
          ]
        },
        {
          "output_type": "stream",
          "name": "stdout",
          "text": [
            "Processing file: ./black/happy11.jpg\n",
            "Processing file: ./black/sad2.jpg\n",
            "Processing file: ./black/angry13.jpg\n"
          ]
        },
        {
          "output_type": "stream",
          "name": "stderr",
          "text": [
            "\rProcessing black:  96%|█████████▌| 43/45 [00:04<00:00, 13.36it/s]"
          ]
        },
        {
          "output_type": "stream",
          "name": "stdout",
          "text": [
            "Processing file: ./black/happy3.jpg\n",
            "Processing file: ./black/sad15.jpg\n",
            "Processing file: ./black/sad9.jpg\n"
          ]
        },
        {
          "output_type": "stream",
          "name": "stderr",
          "text": [
            "Processing black: 100%|██████████| 45/45 [00:04<00:00, 10.31it/s]\n"
          ]
        },
        {
          "output_type": "stream",
          "name": "stdout",
          "text": [
            "          race         file   emotion\n",
            "0    caucasian   angry8.jpg  surprise\n",
            "1    caucasian  happy12.jpg     happy\n",
            "2    caucasian   angry2.jpg     angry\n",
            "3    caucasian  angry11.jpg     angry\n",
            "4    caucasian     sad7.jpg      fear\n",
            "..         ...          ...       ...\n",
            "130      black     sad2.jpg   neutral\n",
            "131      black  angry13.jpg   disgust\n",
            "132      black   happy3.jpg     happy\n",
            "133      black    sad15.jpg  surprise\n",
            "134      black     sad9.jpg      fear\n",
            "\n",
            "[135 rows x 3 columns]\n",
            "Processing folder: ./caucasian\n"
          ]
        },
        {
          "output_type": "stream",
          "name": "stderr",
          "text": [
            "\rProcessing caucasian:   0%|          | 0/45 [00:00<?, ?it/s]"
          ]
        },
        {
          "output_type": "stream",
          "name": "stdout",
          "text": [
            "Processing file: ./caucasian/angry8.jpg\n",
            "Processing file: ./caucasian/happy12.jpg\n"
          ]
        },
        {
          "output_type": "stream",
          "name": "stderr",
          "text": [
            "Processing caucasian:   9%|▉         | 4/45 [00:00<00:03, 12.55it/s]"
          ]
        },
        {
          "output_type": "stream",
          "name": "stdout",
          "text": [
            "Processing file: ./caucasian/angry2.jpg\n",
            "Processing file: ./caucasian/angry11.jpg\n",
            "Processing file: ./caucasian/sad7.jpg\n",
            "Processing file: ./caucasian/happy15.jpg\n"
          ]
        },
        {
          "output_type": "stream",
          "name": "stderr",
          "text": [
            "Processing caucasian:  18%|█▊        | 8/45 [00:00<00:03, 12.06it/s]"
          ]
        },
        {
          "output_type": "stream",
          "name": "stdout",
          "text": [
            "Processing file: ./caucasian/sad13.jpg\n",
            "Processing file: ./caucasian/happy4.jpg\n",
            "Processing file: ./caucasian/angry6.jpg\n"
          ]
        },
        {
          "output_type": "stream",
          "name": "stderr",
          "text": [
            "\rProcessing caucasian:  22%|██▏       | 10/45 [00:00<00:03, 10.81it/s]"
          ]
        },
        {
          "output_type": "stream",
          "name": "stdout",
          "text": [
            "Processing file: ./caucasian/angry5.jpg\n",
            "Processing file: ./caucasian/angry14.jpg\n",
            "Processing file: ./caucasian/happy8.jpg\n"
          ]
        },
        {
          "output_type": "stream",
          "name": "stderr",
          "text": [
            "\rProcessing caucasian:  27%|██▋       | 12/45 [00:01<00:03, 10.33it/s]"
          ]
        },
        {
          "output_type": "stream",
          "name": "stdout",
          "text": [
            "Processing file: ./caucasian/happy13.jpg\n",
            "Processing file: ./caucasian/happy5.jpg\n"
          ]
        },
        {
          "output_type": "stream",
          "name": "stderr",
          "text": [
            "Processing caucasian:  36%|███▌      | 16/45 [00:01<00:02, 10.49it/s]"
          ]
        },
        {
          "output_type": "stream",
          "name": "stdout",
          "text": [
            "Processing file: ./caucasian/angry15.jpg\n",
            "Processing file: ./caucasian/sad1.jpg\n",
            "Processing file: ./caucasian/happy14.jpg\n"
          ]
        },
        {
          "output_type": "stream",
          "name": "stderr",
          "text": [
            "\rProcessing caucasian:  40%|████      | 18/45 [00:01<00:02, 11.19it/s]"
          ]
        },
        {
          "output_type": "stream",
          "name": "stdout",
          "text": [
            "Processing file: ./caucasian/sad6.jpg\n",
            "Processing file: ./caucasian/sad5.jpg\n",
            "Processing file: ./caucasian/sad12.jpg\n"
          ]
        },
        {
          "output_type": "stream",
          "name": "stderr",
          "text": [
            "Processing caucasian:  49%|████▉     | 22/45 [00:02<00:02, 10.56it/s]"
          ]
        },
        {
          "output_type": "stream",
          "name": "stdout",
          "text": [
            "Processing file: ./caucasian/angry1.jpg\n",
            "Processing file: ./caucasian/angry9.jpg\n",
            "Processing file: ./caucasian/happy10.jpg\n"
          ]
        },
        {
          "output_type": "stream",
          "name": "stderr",
          "text": [
            "\rProcessing caucasian:  53%|█████▎    | 24/45 [00:02<00:01, 11.49it/s]"
          ]
        },
        {
          "output_type": "stream",
          "name": "stdout",
          "text": [
            "Processing file: ./caucasian/sad3.jpg\n",
            "Processing file: ./caucasian/happy9.jpg\n",
            "Processing file: ./caucasian/happy6.jpg\n"
          ]
        },
        {
          "output_type": "stream",
          "name": "stderr",
          "text": [
            "Processing caucasian:  62%|██████▏   | 28/45 [00:02<00:01, 12.79it/s]"
          ]
        },
        {
          "output_type": "stream",
          "name": "stdout",
          "text": [
            "Processing file: ./caucasian/sad10.jpg\n",
            "Processing file: ./caucasian/sad8.jpg\n",
            "Processing file: ./caucasian/angry12.jpg\n"
          ]
        },
        {
          "output_type": "stream",
          "name": "stderr",
          "text": [
            "\rProcessing caucasian:  67%|██████▋   | 30/45 [00:02<00:01, 11.67it/s]"
          ]
        },
        {
          "output_type": "stream",
          "name": "stdout",
          "text": [
            "Processing file: ./caucasian/sad4.jpg\n",
            "Processing file: ./caucasian/happy7.jpg\n"
          ]
        },
        {
          "output_type": "stream",
          "name": "stderr",
          "text": [
            "\rProcessing caucasian:  71%|███████   | 32/45 [00:02<00:01, 10.69it/s]"
          ]
        },
        {
          "output_type": "stream",
          "name": "stdout",
          "text": [
            "Processing file: ./caucasian/angry7.jpg\n",
            "Processing file: ./caucasian/angry4.jpg\n"
          ]
        },
        {
          "output_type": "stream",
          "name": "stderr",
          "text": [
            "\rProcessing caucasian:  76%|███████▌  | 34/45 [00:03<00:01, 10.38it/s]"
          ]
        },
        {
          "output_type": "stream",
          "name": "stdout",
          "text": [
            "Processing file: ./caucasian/happy2.jpg\n",
            "Processing file: ./caucasian/sad11.jpg\n"
          ]
        },
        {
          "output_type": "stream",
          "name": "stderr",
          "text": [
            "\rProcessing caucasian:  80%|████████  | 36/45 [00:03<00:00, 10.26it/s]"
          ]
        },
        {
          "output_type": "stream",
          "name": "stdout",
          "text": [
            "Processing file: ./caucasian/angry10.jpg\n",
            "Processing file: ./caucasian/angry3.jpg\n"
          ]
        },
        {
          "output_type": "stream",
          "name": "stderr",
          "text": [
            "\rProcessing caucasian:  84%|████████▍ | 38/45 [00:03<00:00, 10.01it/s]"
          ]
        },
        {
          "output_type": "stream",
          "name": "stdout",
          "text": [
            "Processing file: ./caucasian/happy1.jpg\n",
            "Processing file: ./caucasian/sad14.jpg\n",
            "Processing file: ./caucasian/happy11.jpg\n"
          ]
        },
        {
          "output_type": "stream",
          "name": "stderr",
          "text": [
            "Processing caucasian:  93%|█████████▎| 42/45 [00:03<00:00, 11.26it/s]"
          ]
        },
        {
          "output_type": "stream",
          "name": "stdout",
          "text": [
            "Processing file: ./caucasian/sad2.jpg\n",
            "Processing file: ./caucasian/angry13.jpg\n",
            "Processing file: ./caucasian/happy3.jpg\n"
          ]
        },
        {
          "output_type": "stream",
          "name": "stderr",
          "text": [
            "Processing caucasian: 100%|██████████| 45/45 [00:04<00:00, 10.97it/s]\n"
          ]
        },
        {
          "output_type": "stream",
          "name": "stdout",
          "text": [
            "Processing file: ./caucasian/sad15.jpg\n",
            "Processing file: ./caucasian/sad9.jpg\n",
            "Processing folder: ./asian\n"
          ]
        },
        {
          "output_type": "stream",
          "name": "stderr",
          "text": [
            "\rProcessing asian:   0%|          | 0/45 [00:00<?, ?it/s]"
          ]
        },
        {
          "output_type": "stream",
          "name": "stdout",
          "text": [
            "Processing file: ./asian/angry8.jpg\n"
          ]
        },
        {
          "output_type": "stream",
          "name": "stderr",
          "text": [
            "\rProcessing asian:   4%|▍         | 2/45 [00:00<00:03, 12.80it/s]"
          ]
        },
        {
          "output_type": "stream",
          "name": "stdout",
          "text": [
            "Processing file: ./asian/happy12.jpg\n",
            "Processing file: ./asian/angry2.jpg\n"
          ]
        },
        {
          "output_type": "stream",
          "name": "stderr",
          "text": [
            "\rProcessing asian:   9%|▉         | 4/45 [00:00<00:03, 10.36it/s]"
          ]
        },
        {
          "output_type": "stream",
          "name": "stdout",
          "text": [
            "Processing file: ./asian/angry11.jpg\n",
            "Processing file: ./asian/sad7.jpg\n"
          ]
        },
        {
          "output_type": "stream",
          "name": "stderr",
          "text": [
            "\rProcessing asian:  13%|█▎        | 6/45 [00:00<00:03, 10.30it/s]"
          ]
        },
        {
          "output_type": "stream",
          "name": "stdout",
          "text": [
            "Processing file: ./asian/happy15.jpg\n",
            "Processing file: ./asian/sad13.jpg\n",
            "Processing file: ./asian/happy4.jpg\n"
          ]
        },
        {
          "output_type": "stream",
          "name": "stderr",
          "text": [
            "Processing asian:  22%|██▏       | 10/45 [00:00<00:02, 11.85it/s]"
          ]
        },
        {
          "output_type": "stream",
          "name": "stdout",
          "text": [
            "Processing file: ./asian/angry6.jpg\n",
            "Processing file: ./asian/angry5.jpg\n",
            "Processing file: ./asian/angry14.jpg\n"
          ]
        },
        {
          "output_type": "stream",
          "name": "stderr",
          "text": [
            "\rProcessing asian:  27%|██▋       | 12/45 [00:01<00:03,  9.64it/s]"
          ]
        },
        {
          "output_type": "stream",
          "name": "stdout",
          "text": [
            "Processing file: ./asian/happy8.jpg\n",
            "Processing file: ./asian/happy13.jpg\n"
          ]
        },
        {
          "output_type": "stream",
          "name": "stderr",
          "text": [
            "\rProcessing asian:  31%|███       | 14/45 [00:01<00:03,  7.89it/s]"
          ]
        },
        {
          "output_type": "stream",
          "name": "stdout",
          "text": [
            "Processing file: ./asian/happy5.jpg\n",
            "Processing file: ./asian/angry15.jpg\n"
          ]
        },
        {
          "output_type": "stream",
          "name": "stderr",
          "text": [
            "\rProcessing asian:  33%|███▎      | 15/45 [00:01<00:04,  7.39it/s]"
          ]
        },
        {
          "output_type": "stream",
          "name": "stdout",
          "text": [
            "Processing file: ./asian/sad1.jpg\n"
          ]
        },
        {
          "output_type": "stream",
          "name": "stderr",
          "text": [
            "Processing asian:  38%|███▊      | 17/45 [00:02<00:04,  6.32it/s]"
          ]
        },
        {
          "output_type": "stream",
          "name": "stdout",
          "text": [
            "Processing file: ./asian/happy14.jpg\n",
            "Processing file: ./asian/sad6.jpg\n"
          ]
        },
        {
          "output_type": "stream",
          "name": "stderr",
          "text": [
            "\rProcessing asian:  42%|████▏     | 19/45 [00:02<00:03,  7.09it/s]"
          ]
        },
        {
          "output_type": "stream",
          "name": "stdout",
          "text": [
            "Processing file: ./asian/sad5.jpg\n",
            "Processing file: ./asian/sad12.jpg\n"
          ]
        },
        {
          "output_type": "stream",
          "name": "stderr",
          "text": [
            "Processing asian:  47%|████▋     | 21/45 [00:02<00:03,  6.16it/s]"
          ]
        },
        {
          "output_type": "stream",
          "name": "stdout",
          "text": [
            "Processing file: ./asian/angry1.jpg\n",
            "Processing file: ./asian/angry9.jpg\n"
          ]
        },
        {
          "output_type": "stream",
          "name": "stderr",
          "text": [
            "Processing asian:  51%|█████     | 23/45 [00:02<00:03,  6.71it/s]"
          ]
        },
        {
          "output_type": "stream",
          "name": "stdout",
          "text": [
            "Processing file: ./asian/happy10.jpg\n",
            "Processing file: ./asian/sad3.jpg\n"
          ]
        },
        {
          "output_type": "stream",
          "name": "stderr",
          "text": [
            "Processing asian:  56%|█████▌    | 25/45 [00:03<00:02,  7.23it/s]"
          ]
        },
        {
          "output_type": "stream",
          "name": "stdout",
          "text": [
            "Processing file: ./asian/happy9.jpg\n",
            "Processing file: ./asian/happy6.jpg\n"
          ]
        },
        {
          "output_type": "stream",
          "name": "stderr",
          "text": [
            "Processing asian:  62%|██████▏   | 28/45 [00:03<00:01,  8.86it/s]"
          ]
        },
        {
          "output_type": "stream",
          "name": "stdout",
          "text": [
            "Processing file: ./asian/sad10.jpg\n",
            "Processing file: ./asian/sad8.jpg\n",
            "Processing file: ./asian/angry12.jpg\n"
          ]
        },
        {
          "output_type": "stream",
          "name": "stderr",
          "text": [
            "Processing asian:  69%|██████▉   | 31/45 [00:03<00:01, 10.20it/s]"
          ]
        },
        {
          "output_type": "stream",
          "name": "stdout",
          "text": [
            "Processing file: ./asian/sad4.jpg\n",
            "Processing file: ./asian/happy7.jpg\n",
            "Processing file: ./asian/angry7.jpg\n"
          ]
        },
        {
          "output_type": "stream",
          "name": "stderr",
          "text": [
            "Processing asian:  78%|███████▊  | 35/45 [00:04<00:00, 13.49it/s]"
          ]
        },
        {
          "output_type": "stream",
          "name": "stdout",
          "text": [
            "Processing file: ./asian/angry4.jpg\n",
            "Processing file: ./asian/happy2.jpg\n",
            "Processing file: ./asian/sad11.jpg\n",
            "Processing file: ./asian/angry10.jpg\n"
          ]
        },
        {
          "output_type": "stream",
          "name": "stderr",
          "text": [
            "\rProcessing asian:  82%|████████▏ | 37/45 [00:04<00:00, 11.55it/s]"
          ]
        },
        {
          "output_type": "stream",
          "name": "stdout",
          "text": [
            "Processing file: ./asian/angry3.jpg\n",
            "Processing file: ./asian/happy1.jpg\n"
          ]
        },
        {
          "output_type": "stream",
          "name": "stderr",
          "text": [
            "\rProcessing asian:  87%|████████▋ | 39/45 [00:04<00:00, 10.84it/s]"
          ]
        },
        {
          "output_type": "stream",
          "name": "stdout",
          "text": [
            "Processing file: ./asian/sad14.jpg\n",
            "Processing file: ./asian/happy11.jpg\n",
            "Processing file: ./asian/sad2.jpg\n"
          ]
        },
        {
          "output_type": "stream",
          "name": "stderr",
          "text": [
            "\rProcessing asian:  91%|█████████ | 41/45 [00:04<00:00, 11.36it/s]"
          ]
        },
        {
          "output_type": "stream",
          "name": "stdout",
          "text": [
            "Processing file: ./asian/angry13.jpg\n",
            "Processing file: ./asian/happy3.jpg\n"
          ]
        },
        {
          "output_type": "stream",
          "name": "stderr",
          "text": [
            "Processing asian: 100%|██████████| 45/45 [00:04<00:00,  9.02it/s]\n"
          ]
        },
        {
          "output_type": "stream",
          "name": "stdout",
          "text": [
            "Processing file: ./asian/sad15.jpg\n",
            "Processing file: ./asian/sad9.jpg\n",
            "Processing folder: ./black\n"
          ]
        },
        {
          "output_type": "stream",
          "name": "stderr",
          "text": [
            "\rProcessing black:   0%|          | 0/45 [00:00<?, ?it/s]"
          ]
        },
        {
          "output_type": "stream",
          "name": "stdout",
          "text": [
            "Processing file: ./black/angry8.jpg\n"
          ]
        },
        {
          "output_type": "stream",
          "name": "stderr",
          "text": [
            "\rProcessing black:   2%|▏         | 1/45 [00:00<00:05,  8.46it/s]"
          ]
        },
        {
          "output_type": "stream",
          "name": "stdout",
          "text": [
            "Processing file: ./black/happy12.jpg\n",
            "Processing file: ./black/angry2.jpg\n"
          ]
        },
        {
          "output_type": "stream",
          "name": "stderr",
          "text": [
            "\rProcessing black:   9%|▉         | 4/45 [00:00<00:03, 13.41it/s]"
          ]
        },
        {
          "output_type": "stream",
          "name": "stdout",
          "text": [
            "Processing file: ./black/angry11.jpg\n",
            "Processing file: ./black/sad7.jpg\n",
            "Processing file: ./black/happy15.jpg\n"
          ]
        },
        {
          "output_type": "stream",
          "name": "stderr",
          "text": [
            "\rProcessing black:  13%|█▎        | 6/45 [00:00<00:02, 14.20it/s]"
          ]
        },
        {
          "output_type": "stream",
          "name": "stdout",
          "text": [
            "Processing file: ./black/sad13.jpg\n",
            "Processing file: ./black/happy4.jpg\n"
          ]
        },
        {
          "output_type": "stream",
          "name": "stderr",
          "text": [
            "Processing black:  22%|██▏       | 10/45 [00:00<00:02, 12.31it/s]"
          ]
        },
        {
          "output_type": "stream",
          "name": "stdout",
          "text": [
            "Processing file: ./black/angry6.jpg\n",
            "Processing file: ./black/angry5.jpg\n",
            "Processing file: ./black/angry14.jpg\n"
          ]
        },
        {
          "output_type": "stream",
          "name": "stderr",
          "text": [
            "Processing black:  31%|███       | 14/45 [00:01<00:02, 13.43it/s]"
          ]
        },
        {
          "output_type": "stream",
          "name": "stdout",
          "text": [
            "Processing file: ./black/happy8.jpg\n",
            "Processing file: ./black/happy13.jpg\n",
            "Processing file: ./black/happy5.jpg\n",
            "Processing file: ./black/angry15.jpg\n"
          ]
        },
        {
          "output_type": "stream",
          "name": "stderr",
          "text": [
            "Processing black:  40%|████      | 18/45 [00:01<00:01, 15.13it/s]"
          ]
        },
        {
          "output_type": "stream",
          "name": "stdout",
          "text": [
            "Processing file: ./black/sad1.jpg\n",
            "Processing file: ./black/happy14.jpg\n",
            "Processing file: ./black/sad6.jpg\n",
            "Processing file: ./black/sad5.jpg\n"
          ]
        },
        {
          "output_type": "stream",
          "name": "stderr",
          "text": [
            "\rProcessing black:  44%|████▍     | 20/45 [00:01<00:01, 14.67it/s]"
          ]
        },
        {
          "output_type": "stream",
          "name": "stdout",
          "text": [
            "Processing file: ./black/sad12.jpg\n",
            "Processing file: ./black/angry1.jpg\n",
            "Processing file: ./black/angry9.jpg\n"
          ]
        },
        {
          "output_type": "stream",
          "name": "stderr",
          "text": [
            "Processing black:  53%|█████▎    | 24/45 [00:01<00:01, 13.13it/s]"
          ]
        },
        {
          "output_type": "stream",
          "name": "stdout",
          "text": [
            "Processing file: ./black/happy10.jpg\n",
            "Processing file: ./black/sad3.jpg\n",
            "Processing file: ./black/happy9.jpg\n"
          ]
        },
        {
          "output_type": "stream",
          "name": "stderr",
          "text": [
            "\rProcessing black:  58%|█████▊    | 26/45 [00:02<00:01, 12.09it/s]"
          ]
        },
        {
          "output_type": "stream",
          "name": "stdout",
          "text": [
            "Processing file: ./black/happy6.jpg\n",
            "Processing file: ./black/sad10.jpg\n",
            "Processing file: ./black/sad8.jpg\n"
          ]
        },
        {
          "output_type": "stream",
          "name": "stderr",
          "text": [
            "Processing black:  67%|██████▋   | 30/45 [00:02<00:01, 13.85it/s]"
          ]
        },
        {
          "output_type": "stream",
          "name": "stdout",
          "text": [
            "Processing file: ./black/angry12.jpg\n",
            "Processing file: ./black/sad4.jpg\n",
            "Processing file: ./black/happy7.jpg\n"
          ]
        },
        {
          "output_type": "stream",
          "name": "stderr",
          "text": [
            "Processing black:  76%|███████▌  | 34/45 [00:02<00:00, 13.53it/s]"
          ]
        },
        {
          "output_type": "stream",
          "name": "stdout",
          "text": [
            "Processing file: ./black/angry7.jpg\n",
            "Processing file: ./black/angry4.jpg\n",
            "Processing file: ./black/happy2.jpg\n",
            "Processing file: ./black/sad11.jpg\n"
          ]
        },
        {
          "output_type": "stream",
          "name": "stderr",
          "text": [
            "\rProcessing black:  80%|████████  | 36/45 [00:02<00:00, 13.68it/s]"
          ]
        },
        {
          "output_type": "stream",
          "name": "stdout",
          "text": [
            "Processing file: ./black/angry10.jpg\n",
            "Processing file: ./black/angry3.jpg\n",
            "Processing file: ./black/happy1.jpg\n"
          ]
        },
        {
          "output_type": "stream",
          "name": "stderr",
          "text": [
            "Processing black:  91%|█████████ | 41/45 [00:03<00:00, 13.79it/s]"
          ]
        },
        {
          "output_type": "stream",
          "name": "stdout",
          "text": [
            "Processing file: ./black/sad14.jpg\n",
            "Processing file: ./black/happy11.jpg\n",
            "Processing file: ./black/sad2.jpg\n",
            "Processing file: ./black/angry13.jpg\n"
          ]
        },
        {
          "output_type": "stream",
          "name": "stderr",
          "text": [
            "\rProcessing black:  96%|█████████▌| 43/45 [00:03<00:00, 13.49it/s]"
          ]
        },
        {
          "output_type": "stream",
          "name": "stdout",
          "text": [
            "Processing file: ./black/happy3.jpg\n",
            "Processing file: ./black/sad15.jpg\n",
            "Processing file: ./black/sad9.jpg\n"
          ]
        },
        {
          "output_type": "stream",
          "name": "stderr",
          "text": [
            "Processing black: 100%|██████████| 45/45 [00:03<00:00, 13.38it/s]"
          ]
        },
        {
          "output_type": "stream",
          "name": "stdout",
          "text": [
            "          race         file   emotion\n",
            "0    caucasian   angry8.jpg  surprise\n",
            "1    caucasian  happy12.jpg     happy\n",
            "2    caucasian   angry2.jpg     angry\n",
            "3    caucasian  angry11.jpg     angry\n",
            "4    caucasian     sad7.jpg      fear\n",
            "..         ...          ...       ...\n",
            "130      black     sad2.jpg   neutral\n",
            "131      black  angry13.jpg   disgust\n",
            "132      black   happy3.jpg     happy\n",
            "133      black    sad15.jpg  surprise\n",
            "134      black     sad9.jpg      fear\n",
            "\n",
            "[135 rows x 3 columns]\n"
          ]
        },
        {
          "output_type": "stream",
          "name": "stderr",
          "text": [
            "\n"
          ]
        }
      ]
    },
    {
      "source": [
        "from deepface import DeepFace\n",
        "import pandas as pd\n",
        "import os\n",
        "from tqdm import tqdm\n",
        "\n",
        "# 設定你的資料夾\n",
        "root_folder = './'\n",
        "groups = ['caucasian', 'asian', 'black']\n",
        "\n",
        "results = []\n",
        "\n",
        "for group in groups:\n",
        "    folder = os.path.join(root_folder, group)\n",
        "    for file in tqdm(os.listdir(folder), desc=f'Processing {group}'):\n",
        "        if file.endswith('.jpg') or file.endswith('.png'):\n",
        "            filepath = os.path"
      ],
      "cell_type": "code",
      "metadata": {
        "id": "yQMw4tXCkGl8",
        "colab": {
          "base_uri": "https://localhost:8080/"
        },
        "outputId": "b5990f51-16e3-4f95-9f9d-8d7509f315e5"
      },
      "execution_count": null,
      "outputs": [
        {
          "output_type": "stream",
          "name": "stderr",
          "text": [
            "Processing caucasian: 100%|██████████| 45/45 [00:00<00:00, 214238.00it/s]\n",
            "Processing asian: 100%|██████████| 45/45 [00:00<00:00, 262508.60it/s]\n",
            "Processing black: 100%|██████████| 45/45 [00:00<00:00, 256445.22it/s]\n"
          ]
        }
      ]
    },
    {
      "cell_type": "code",
      "source": [
        "from deepface import DeepFace\n",
        "import pandas as pd\n",
        "import os\n",
        "from tqdm import tqdm\n",
        "\n",
        "# 設定資料夾\n",
        "root_folder = './'\n",
        "groups = ['caucasian', 'asian', 'black']\n",
        "true_emotions = ['happy', 'sad', 'angry']\n",
        "\n",
        "results = []\n",
        "\n",
        "for group in groups:\n",
        "    folder = os.path.join(root_folder, group)\n",
        "    print(f\"Processing group: {group}\")\n",
        "    for file in tqdm(os.listdir(folder), desc=f'Processing {group}'):\n",
        "        if file.endswith('.jpg') or file.endswith('.png'):\n",
        "            filepath = os.path.join(folder, file)\n",
        "            try:\n",
        "                prediction = DeepFace.analyze(filepath, actions=['emotion'], enforce_detection=False, detector_backend='opencv')\n",
        "\n",
        "                # 抓預測結果\n",
        "                pred_emotion = max(prediction[0]['emotion'], key=prediction[0]['emotion'].get)\n",
        "\n",
        "                # 從檔案名稱推斷正確情緒\n",
        "                true_label = None\n",
        "                for emo in true_emotions:\n",
        "                    if emo in file.lower():\n",
        "                        true_label = emo\n",
        "                        break\n",
        "\n",
        "                if true_label is not None:\n",
        "                    results.append({\n",
        "                        'group': group,\n",
        "                        'true_emotion': true_label,\n",
        "                        'predicted_emotion': pred_emotion.lower()\n",
        "                    })\n",
        "            except Exception as e:\n",
        "                print(f\"Error processing {filepath}: {e}\")\n",
        "\n",
        "# 轉成DataFrame\n",
        "df_ferplus = pd.DataFrame(results)\n",
        "\n",
        "print(df_ferplus.head())\n"
      ],
      "metadata": {
        "id": "PVTozqMMkBRr",
        "colab": {
          "base_uri": "https://localhost:8080/"
        },
        "outputId": "5ce46481-1007-4044-fd01-d504a5ef7340"
      },
      "execution_count": null,
      "outputs": [
        {
          "output_type": "stream",
          "name": "stdout",
          "text": [
            "Processing group: caucasian\n"
          ]
        },
        {
          "output_type": "stream",
          "name": "stderr",
          "text": [
            "Processing caucasian: 100%|██████████| 45/45 [00:08<00:00,  5.49it/s]\n"
          ]
        },
        {
          "output_type": "stream",
          "name": "stdout",
          "text": [
            "Processing group: asian\n"
          ]
        },
        {
          "output_type": "stream",
          "name": "stderr",
          "text": [
            "Processing asian: 100%|██████████| 45/45 [00:07<00:00,  6.41it/s]\n"
          ]
        },
        {
          "output_type": "stream",
          "name": "stdout",
          "text": [
            "Processing group: black\n"
          ]
        },
        {
          "output_type": "stream",
          "name": "stderr",
          "text": [
            "Processing black: 100%|██████████| 45/45 [00:03<00:00, 11.64it/s]"
          ]
        },
        {
          "output_type": "stream",
          "name": "stdout",
          "text": [
            "       group true_emotion predicted_emotion\n",
            "0  caucasian        angry          surprise\n",
            "1  caucasian        happy             happy\n",
            "2  caucasian        angry             angry\n",
            "3  caucasian        angry             angry\n",
            "4  caucasian          sad              fear\n"
          ]
        },
        {
          "output_type": "stream",
          "name": "stderr",
          "text": [
            "\n"
          ]
        }
      ]
    },
    {
      "cell_type": "code",
      "source": [
        "import seaborn as sns\n",
        "import matplotlib.pyplot as plt\n",
        "\n",
        "# 計算每個 group 和 emotion 的準確率\n",
        "accuracy_table = df_ferplus.groupby(['group', 'true_emotion']).apply(\n",
        "    lambda x: (x['true_emotion'] == x['predicted_emotion']).mean()\n",
        ").unstack()\n",
        "\n",
        "# 四捨五入到小數點後2位\n",
        "accuracy_table_rounded = accuracy_table.round(2)\n",
        "\n",
        "# 畫 Heatmap\n",
        "plt.figure(figsize=(10, 7))\n",
        "sns.heatmap(accuracy_table_rounded, annot=True, cmap='coolwarm', vmin=0, vmax=1, linewidths=0.5, linecolor='gray')\n",
        "plt.title('FERPlus: Emotion Detection Accuracy by Group and Emotion')\n",
        "plt.ylabel('Group')\n",
        "plt.xlabel('Emotion')\n",
        "plt.xticks(rotation=45)\n",
        "plt.yticks(rotation=0)\n",
        "plt.show()\n",
        "\n",
        "# 額外印出數字表格\n",
        "print(\"FERPlus: Emotion Detection Accuracy Table (Group x Emotion):\")\n",
        "print(accuracy_table_rounded)\n"
      ],
      "metadata": {
        "id": "HGFVM8fypG1J",
        "colab": {
          "base_uri": "https://localhost:8080/",
          "height": 777
        },
        "outputId": "ae0e5c2a-5cfb-4112-eae8-dec924dfab7a"
      },
      "execution_count": null,
      "outputs": [
        {
          "output_type": "display_data",
          "data": {
            "text/plain": [
              "<Figure size 1000x700 with 2 Axes>"
            ],
            "image/png": "[encoded data removed]"
          },
          "metadata": {}
        },
        {
          "output_type": "stream",
          "name": "stdout",
          "text": [
            "FERPlus: Emotion Detection Accuracy Table (Group x Emotion):\n",
            "true_emotion  angry  happy   sad\n",
            "group                           \n",
            "asian          0.00   0.80  0.07\n",
            "black          0.13   0.80  0.33\n",
            "caucasian      0.27   0.87  0.27\n"
          ]
        }
      ]
    },
    {
      "cell_type": "code",
      "source": [
        "import seaborn as sns\n",
        "import matplotlib.pyplot as plt\n",
        "\n",
        "# 計算每個group和emotion的準確率\n",
        "accuracy_table = df_ferplus.groupby(['group', 'true_emotion']).apply(\n",
        "    lambda x: (x['true_emotion'] == x['predicted_emotion']).mean()\n",
        ").unstack()\n",
        "\n",
        "# 畫Heatmap\n",
        "plt.figure(figsize=(8,6))\n",
        "sns.heatmap(accuracy_table, annot=True, cmap='coolwarm', vmin=0, vmax=1)\n",
        "plt.title('FERPlus: Emotion Detection Accuracy by Group and Emotion')\n",
        "plt.show()\n"
      ],
      "metadata": {
        "id": "nrrGlUGxkXEb",
        "colab": {
          "base_uri": "https://localhost:8080/",
          "height": 564
        },
        "outputId": "40c4ae2e-89d7-43f7-de78-16601e36d366"
      },
      "execution_count": null,
      "outputs": [
        {
          "output_type": "display_data",
          "data": {
            "text/plain": [
              "<Figure size 800x600 with 2 Axes>"
            ],
            "image/png": "[encoded data removed]"
          },
          "metadata": {}
        }
      ]
    },
    {
      "cell_type": "code",
      "source": [
        "import matplotlib.pyplot as plt\n",
        "\n",
        "# 每一個族群總體準確率\n",
        "group_accuracy = df_ferplus.groupby('group').apply(\n",
        "    lambda x: (x['true_emotion'] == x['predicted_emotion']).mean()\n",
        ")\n",
        "\n",
        "# 畫 bar chart\n",
        "plt.figure(figsize=(8, 6))\n",
        "bars = group_accuracy.plot(kind='bar', color='lightblue', edgecolor='black')\n",
        "\n",
        "plt.ylim(0, 1)\n",
        "plt.ylabel('Accuracy')\n",
        "plt.title('FERPlus: Overall Emotion Detection Accuracy by Group')\n",
        "plt.xticks(rotation=0)\n",
        "plt.grid(axis='y')\n",
        "\n",
        "# 在每個 bar 上方加數字\n",
        "for i, v in enumerate(group_accuracy):\n",
        "    plt.text(i, v + 0.02, f'{v:.2f}', ha='center', fontweight='bold')\n",
        "\n",
        "plt.show()\n",
        "\n",
        "# 額外印出數字表格\n",
        "print(\"FERPlus: Overall Emotion Detection Accuracy by Group:\")\n",
        "print(group_accuracy.round(3))\n"
      ],
      "metadata": {
        "id": "z3Euc1sTpbQz",
        "colab": {
          "base_uri": "https://localhost:8080/",
          "height": 673
        },
        "outputId": "47528102-960a-4247-800b-a1453c59e1d1"
      },
      "execution_count": null,
      "outputs": [
        {
          "output_type": "display_data",
          "data": {
            "text/plain": [
              "<Figure size 800x600 with 1 Axes>"
            ],
            "image/png": "[encoded data removed]"
          },
          "metadata": {}
        },
        {
          "output_type": "stream",
          "name": "stdout",
          "text": [
            "FERPlus: Overall Emotion Detection Accuracy by Group:\n",
            "group\n",
            "asian        0.289\n",
            "black        0.422\n",
            "caucasian    0.467\n",
            "dtype: float64\n"
          ]
        }
      ]
    },
    {
      "cell_type": "code",
      "source": [
        "# 每一個族群總體準確率\n",
        "group_accuracy = df_ferplus.groupby('group').apply(\n",
        "    lambda x: (x['true_emotion'] == x['predicted_emotion']).mean()\n",
        ")\n",
        "\n",
        "# 畫bar chart\n",
        "group_accuracy.plot(kind='bar', color='lightblue', edgecolor='black')\n",
        "plt.ylim(0, 1)\n",
        "plt.ylabel('Accuracy')\n",
        "plt.title('FERPlus: Overall Emotion Detection Accuracy by Group')\n",
        "plt.grid(axis='y')\n",
        "plt.show()\n"
      ],
      "metadata": {
        "id": "_e076MrskZHk",
        "colab": {
          "base_uri": "https://localhost:8080/",
          "height": 527
        },
        "outputId": "87a7d805-a027-4987-884d-77d8a3462e99"
      },
      "execution_count": null,
      "outputs": [
        {
          "output_type": "display_data",
          "data": {
            "text/plain": [
              "<Figure size 640x480 with 1 Axes>"
            ],
            "image/png": "[encoded data removed]"
          },
          "metadata": {}
        }
      ]
    },
    {
      "cell_type": "code",
      "source": [
        "from deepface import DeepFace\n",
        "import pandas as pd\n",
        "import os\n",
        "from tqdm import tqdm\n",
        "\n",
        "# 設定資料夾\n",
        "root_folder = './'\n",
        "groups = ['caucasian', 'asian', 'black']\n",
        "true_emotions = ['happy', 'sad', 'angry']\n",
        "\n",
        "# Positive / Negative mapping\n",
        "positive_emotions = ['happy']\n",
        "negative_emotions = ['sad', 'angry']\n",
        "\n",
        "results = []\n",
        "\n",
        "for group in groups:\n",
        "    folder = os.path.join(root_folder, group)\n",
        "    print(f\"Processing group: {group}\")\n",
        "    for file in tqdm(os.listdir(folder), desc=f'Processing {group}'):\n",
        "        if file.endswith('.jpg') or file.endswith('.png'):\n",
        "            filepath = os.path.join(folder, file)\n",
        "            try:\n",
        "                prediction = DeepFace.analyze(filepath, actions=['emotion'], enforce_detection=False, detector_backend='opencv')\n",
        "\n",
        "                # 預測情緒\n",
        "                pred_emotion = max(prediction[0]['emotion'], key=prediction[0]['emotion'].get).lower()\n",
        "\n",
        "                # 轉成 Positive/Negative\n",
        "                pred_class = 'positive' if pred_emotion in positive_emotions else 'negative'\n",
        "\n",
        "                # 解析真實情緒 (從檔名)\n",
        "                true_label = None\n",
        "                for emo in true_emotions:\n",
        "                    if emo in file.lower():\n",
        "                        true_label = emo\n",
        "                        break\n",
        "\n",
        "                if true_label is not None:\n",
        "                    true_class = 'positive' if true_label in positive_emotions else 'negative'\n",
        "\n",
        "                    results.append({\n",
        "                        'group': group,\n",
        "                        'true_class': true_class,\n",
        "                        'predicted_class': pred_class\n",
        "                    })\n",
        "            except Exception as e:\n",
        "                print(f\"Error processing {filepath}: {e}\")\n",
        "\n",
        "# 轉成DataFrame\n",
        "df_binary = pd.DataFrame(results)\n",
        "\n",
        "print(df_binary.head())\n"
      ],
      "metadata": {
        "id": "vtBiD3WJkaWB",
        "colab": {
          "base_uri": "https://localhost:8080/"
        },
        "outputId": "52569341-017a-4c9e-a2dc-6377061e4492"
      },
      "execution_count": null,
      "outputs": [
        {
          "output_type": "stream",
          "name": "stdout",
          "text": [
            "Processing group: caucasian\n"
          ]
        },
        {
          "output_type": "stream",
          "name": "stderr",
          "text": [
            "Processing caucasian: 100%|██████████| 45/45 [00:04<00:00, 10.93it/s]\n"
          ]
        },
        {
          "output_type": "stream",
          "name": "stdout",
          "text": [
            "Processing group: asian\n"
          ]
        },
        {
          "output_type": "stream",
          "name": "stderr",
          "text": [
            "Processing asian: 100%|██████████| 45/45 [00:04<00:00, 10.53it/s]\n"
          ]
        },
        {
          "output_type": "stream",
          "name": "stdout",
          "text": [
            "Processing group: black\n"
          ]
        },
        {
          "output_type": "stream",
          "name": "stderr",
          "text": [
            "Processing black: 100%|██████████| 45/45 [00:04<00:00, 10.58it/s]"
          ]
        },
        {
          "output_type": "stream",
          "name": "stdout",
          "text": [
            "       group true_class predicted_class\n",
            "0  caucasian   negative        negative\n",
            "1  caucasian   positive        positive\n",
            "2  caucasian   negative        negative\n",
            "3  caucasian   negative        negative\n",
            "4  caucasian   negative        negative\n"
          ]
        },
        {
          "output_type": "stream",
          "name": "stderr",
          "text": [
            "\n"
          ]
        }
      ]
    },
    {
      "cell_type": "code",
      "source": [
        "import matplotlib.pyplot as plt\n",
        "\n",
        "# 每一族群的正確率\n",
        "group_binary_accuracy = df_binary.groupby('group').apply(\n",
        "    lambda x: (x['true_class'] == x['predicted_class']).mean()\n",
        ")\n",
        "\n",
        "# 畫 bar chart\n",
        "plt.figure(figsize=(8, 6))\n",
        "bars = group_binary_accuracy.plot(kind='bar', color='lightblue', edgecolor='black')\n",
        "\n",
        "plt.ylim(0, 1)\n",
        "plt.ylabel('Accuracy')\n",
        "plt.title('FERPlus: Positive/Negative Detection Accuracy by Group')\n",
        "plt.xticks(rotation=0)\n",
        "plt.grid(axis='y')\n",
        "\n",
        "# 在每個 bar 上方加數字\n",
        "for i, v in enumerate(group_binary_accuracy):\n",
        "    plt.text(i, v + 0.02, f'{v:.2f}', ha='center', fontweight='bold')\n",
        "\n",
        "plt.show()\n",
        "\n",
        "# 額外印出數字表格\n",
        "print(\"FERPlus: Positive/Negative Detection Accuracy by Group:\")\n",
        "print(group_binary_accuracy.round(3))\n"
      ],
      "metadata": {
        "id": "tamMbaQkpmwT",
        "colab": {
          "base_uri": "https://localhost:8080/",
          "height": 673
        },
        "outputId": "ba098de8-b998-4129-bb49-a0daf4319119"
      },
      "execution_count": null,
      "outputs": [
        {
          "output_type": "display_data",
          "data": {
            "text/plain": [
              "<Figure size 800x600 with 1 Axes>"
            ],
            "image/png": "[encoded data removed]"
          },
          "metadata": {}
        },
        {
          "output_type": "stream",
          "name": "stdout",
          "text": [
            "FERPlus: Positive/Negative Detection Accuracy by Group:\n",
            "group\n",
            "asian        0.911\n",
            "black        0.911\n",
            "caucasian    0.911\n",
            "dtype: float64\n"
          ]
        }
      ]
    },
    {
      "cell_type": "code",
      "source": [
        "# 每一族群的正確率\n",
        "group_binary_accuracy = df_binary.groupby('group').apply(\n",
        "    lambda x: (x['true_class'] == x['predicted_class']).mean()\n",
        ")\n",
        "\n",
        "# 畫bar chart\n",
        "group_binary_accuracy.plot(kind='bar', color='lightblue', edgecolor='black')\n",
        "plt.ylim(0, 1)\n",
        "plt.ylabel('Accuracy')\n",
        "plt.title('FERPlus: Positive/Negative Detection Accuracy by Group')\n",
        "plt.grid(axis='y')\n",
        "plt.show()\n"
      ],
      "metadata": {
        "id": "s0QTz-AAklQE",
        "colab": {
          "base_uri": "https://localhost:8080/",
          "height": 527
        },
        "outputId": "3143429f-ba51-472d-a60c-e2a9119ec0c0"
      },
      "execution_count": null,
      "outputs": [
        {
          "output_type": "display_data",
          "data": {
            "text/plain": [
              "<Figure size 640x480 with 1 Axes>"
            ],
            "image/png": "[encoded data removed]"
          },
          "metadata": {}
        }
      ]
    },
    {
      "cell_type": "code",
      "source": [
        "summary = df_binary.groupby(['group', 'true_class']).apply(\n",
        "    lambda x: (x['true_class'] == x['predicted_class']).mean()\n",
        ").unstack()\n",
        "\n",
        "print(summary)\n"
      ],
      "metadata": {
        "id": "trYpL4giknCm",
        "colab": {
          "base_uri": "https://localhost:8080/"
        },
        "outputId": "c4c49a41-d197-4e01-e606-584947419834"
      },
      "execution_count": null,
      "outputs": [
        {
          "output_type": "stream",
          "name": "stdout",
          "text": [
            "true_class  negative  positive\n",
            "group                         \n",
            "asian       0.966667  0.800000\n",
            "black       0.966667  0.800000\n",
            "caucasian   0.933333  0.866667\n"
          ]
        }
      ]
    },
    {
      "cell_type": "code",
      "source": [
        "import seaborn as sns\n",
        "import matplotlib.pyplot as plt\n",
        "\n",
        "# 製作混淆矩陣（Confusion Matrix）\n",
        "conf_matrix = pd.crosstab(df_binary['true_class'], df_binary['predicted_class'], normalize='index')\n",
        "\n",
        "# 畫Heatmap\n",
        "plt.figure(figsize=(6, 5))\n",
        "sns.heatmap(conf_matrix, annot=True, cmap='coolwarm', fmt='.2f', cbar=True)\n",
        "\n",
        "plt.title('FERPlus: Positive/Negative Detection Confusion Matrix')\n",
        "plt.xlabel('Predicted Class')\n",
        "plt.ylabel('True Class')\n",
        "plt.show()\n"
      ],
      "metadata": {
        "id": "h6uvwaldkoUq",
        "colab": {
          "base_uri": "https://localhost:8080/",
          "height": 487
        },
        "outputId": "527be06a-8f6f-464e-f71a-d0450e98d30a"
      },
      "execution_count": null,
      "outputs": [
        {
          "output_type": "display_data",
          "data": {
            "text/plain": [
              "<Figure size 600x500 with 2 Axes>"
            ],
            "image/png": "[encoded data removed]"
          },
          "metadata": {}
        }
      ]
    },
    {
      "source": [
        "# 針對 DeepFace 的 DataFrame（假設叫 df_deepface）\n",
        "# Assuming df is the DataFrame from previous DeepFace analysis\n",
        "df_deepface = df.copy()  # Create a copy of df to avoid modifying the original\n",
        "\n",
        "# Assuming 'true_emotion' column exists in df_deepface to derive 'true_class'\n",
        "# Instead of 'true_emotion', use 'file' column to derive 'true_class'\n",
        "df_deepface['true_class'] = df_deepface['file'].apply(lambda x: 'positive' if 'happy' in x.lower() else 'negative')\n",
        "# Instead of 'predicted_emotion', use 'emotion' column to derive 'predicted_class'\n",
        "df_deepface['predicted_class'] = df_deepface['emotion'].apply(lambda x: 'positive' if 'happy' in x.lower() else 'negative')\n",
        "\n",
        "\n",
        "# 製作混淆矩陣\n",
        "conf_matrix_deepface = pd.crosstab(df_deepface['true_class'], df_deepface['predicted_class'], normalize='index')\n",
        "\n",
        "# 畫Heatmap\n",
        "import seaborn as sns\n",
        "import matplotlib.pyplot as plt\n",
        "\n",
        "plt.figure(figsize=(6, 5))\n",
        "sns.heatmap(conf_matrix_deepface, annot=True, cmap='coolwarm', fmt='.2f', cbar=True)\n",
        "\n",
        "plt.title('DeepFace Positive/Negative Detection Heatmap')\n",
        "plt.xlabel('Predicted Class')\n",
        "plt.ylabel('True Class')\n",
        "plt.show()"
      ],
      "cell_type": "code",
      "metadata": {
        "colab": {
          "base_uri": "https://localhost:8080/",
          "height": 487
        },
        "id": "REnILY7wU7Jh",
        "outputId": "8a29fe82-78bb-45d5-d36e-36cbfcce8bda"
      },
      "execution_count": null,
      "outputs": [
        {
          "output_type": "display_data",
          "data": {
            "text/plain": [
              "<Figure size 600x500 with 2 Axes>"
            ],
            "image/png": "[encoded data removed]"
          },
          "metadata": {}
        }
      ]
    },
    {
      "source": [
        "import pandas as pd\n",
        "import seaborn as sns\n",
        "import matplotlib.pyplot as plt\n",
        "\n",
        "# Assuming your three DataFrames are named:\n",
        "# df_deepface, df_minixception, df_ferplus\n",
        "\n",
        "# Define a unified conversion function\n",
        "def add_pos_neg_label(df, true_col='file', pred_col='emotion'):\n",
        "    \"\"\"\n",
        "    Adds 'true_class' and 'predicted_class' columns to the DataFrame.\n",
        "\n",
        "    Args:\n",
        "        df (pd.DataFrame): The input DataFrame.\n",
        "        true_col (str): The column name containing the true emotion labels.\n",
        "        pred_col (str): The column name containing the predicted emotion labels.\n",
        "    \"\"\"\n",
        "    df['true_class'] = df[true_col].apply(lambda x: 'positive' if 'happy' in x.lower() else 'negative')\n",
        "    df['predicted_class'] = df[pred_col].apply(lambda x: 'positive' if 'happy' in x.lower() else 'negative')\n",
        "    return df\n",
        "\n",
        "# Add true_class and predicted_class for each model\n",
        "df_deepface = add_pos_neg_label(df_deepface, true_col='file', pred_col='emotion')  # Updated to use 'file' and 'emotion'\n",
        "# Assuming df_minixception has similar structure to df_deepface, using same column names\n",
        "# df_minixception = add_pos_neg_label(df_minixception, true_col='file', pred_col='emotion') if 'df_minixception' in locals() else None  # Assuming file and emotion are relevant columns\n",
        "# df_ferplus is already processed and has columns 'true_emotion', 'predicted_emotion'\n",
        "df_ferplus = add_pos_neg_label(df_ferplus, true_col='true_emotion', pred_col='predicted_emotion')  # Assuming true_emotion and predicted_emotion\n",
        "\n",
        "\n",
        "# Plotting function\n",
        "def plot_heatmap(df, title):\n",
        "    conf_matrix = pd.crosstab(df['true_class'], df['predicted_class'], normalize='index')\n",
        "    plt.figure(figsize=(5, 4))\n",
        "    sns.heatmap(conf_matrix, annot=True, cmap='coolwarm', fmt='.2f', cbar=True)\n",
        "    plt.title(title)\n",
        "    plt.xlabel('Predicted Class')\n",
        "    plt.ylabel('True Class')\n",
        "    plt.show()\n",
        "\n",
        "# Plot heatmaps for each model\n",
        "plot_heatmap(df_deepface, 'DeepFace Positive/Negative Detection Heatmap')\n",
        "# if df_minixception is not None:  # Only plot if df_minixception was defined\n",
        "#     plot_heatmap(df_minixception, 'Mini-Xception Positive/Negative Detection Heatmap')\n",
        "plot_heatmap(df_ferplus, 'FERPlus Positive/Negative Detection Heatmap')"
      ],
      "cell_type": "code",
      "metadata": {
        "colab": {
          "base_uri": "https://localhost:8080/",
          "height": 803
        },
        "id": "6b7krWVXVJl-",
        "outputId": "c9d6d5aa-fd15-47e1-ed18-a6db990f0a08"
      },
      "execution_count": null,
      "outputs": [
        {
          "output_type": "display_data",
          "data": {
            "text/plain": [
              "<Figure size 500x400 with 2 Axes>"
            ],
            "image/png": "[encoded data removed]"
          },
          "metadata": {}
        },
        {
          "output_type": "display_data",
          "data": {
            "text/plain": [
              "<Figure size 500x400 with 2 Axes>"
            ],
            "image/png": "[encoded data removed]"
          },
          "metadata": {}
        }
      ]
    },
    {
      "source": [
        "def add_pos_neg_label(df):\n",
        "    df['true_class'] = df['file'].apply(lambda x: 'positive' if 'happy' in x.lower() else 'negative')\n",
        "    df['predicted_class'] = df['emotion'].apply(lambda x: 'positive' if 'happy' in x.lower() else 'negative')\n",
        "    return df"
      ],
      "cell_type": "code",
      "metadata": {
        "id": "XRCEOvlXl-zZ"
      },
      "execution_count": null,
      "outputs": []
    },
    {
      "source": [
        "import seaborn as sns\n",
        "import matplotlib.pyplot as plt\n",
        "\n",
        "def plot_group_heatmaps(df, model_name):\n",
        "    \"\"\"\n",
        "    畫出 Group × Emotion 的準確率 Heatmap\n",
        "    df: 包含 'group', 'true_emotion', 'predicted_emotion' 的資料框\n",
        "    model_name: 模型名稱 (字串)\n",
        "    \"\"\"\n",
        "    if df is None or df.empty:\n",
        "        print(f\"[Warning] {model_name} 的資料是空的，跳過繪圖。\")\n",
        "        return\n",
        "\n",
        "    # Rename columns to match expected names\n",
        "    df = df.rename(columns={'race': 'group', 'file': 'true_emotion', 'emotion': 'predicted_emotion'})\n",
        "\n",
        "    # 計算每個 group 和 emotion 的準確率\n",
        "    accuracy_table = df.groupby(['group', 'true_emotion']).apply(\n",
        "        lambda x: (x['true_emotion'] == x['predicted_emotion']).mean()\n",
        "    ).unstack()\n",
        "\n",
        "    # 四捨五入\n",
        "    accuracy_table = accuracy_table.round(2)\n",
        "\n",
        "    # 畫 Heatmap\n",
        "    plt.figure(figsize=(10, 7))\n",
        "    sns.heatmap(accuracy_table, annot=True, cmap='coolwarm', vmin=0, vmax=1, linewidths=0.5, linecolor='gray')\n",
        "    plt.title(f'{model_name}: Emotion Detection Accuracy by Group and Emotion')\n",
        "    plt.ylabel('Group')\n",
        "    plt.xlabel('Emotion')\n",
        "    plt.xticks(rotation=45)\n",
        "    plt.yticks(rotation=0)\n",
        "    plt.show()\n",
        "\n",
        "    # 額外印出表格\n",
        "    print(f\"\\n{model_name}: Group × Emotion Accuracy Table:\")\n",
        "    print(accuracy_table)"
      ],
      "cell_type": "code",
      "metadata": {
        "id": "mlXQ0T0NVSsc"
      },
      "execution_count": null,
      "outputs": []
    },
    {
      "source": [
        "import matplotlib.pyplot as plt\n",
        "\n",
        "# 每一族群的正確率 (DeepFace)\n",
        "# Rename 'race' column to 'group'\n",
        "df_deepface = df_deepface.rename(columns={'race': 'group'})\n",
        "\n",
        "group_binary_accuracy = df_deepface.groupby('group').apply(\n",
        "    lambda x: (x['true_class'] == x['predicted_class']).mean()\n",
        ")\n",
        "\n",
        "# 畫 bar chart\n",
        "plt.figure(figsize=(8, 6))\n",
        "bars = group_binary_accuracy.plot(kind='bar', color='lightblue', edgecolor='black')\n",
        "\n",
        "plt.ylim(0, 1)\n",
        "plt.ylabel('Accuracy')\n",
        "plt.title('DeepFace: Positive/Negative Detection Accuracy by Group')\n",
        "plt.xticks(rotation=0)\n",
        "plt.grid(axis='y')\n",
        "\n",
        "# 在每個 bar 上方加數字\n",
        "for i, v in enumerate(group_binary_accuracy):\n",
        "    plt.text(i, v + 0.02, f'{v:.2f}', ha='center', fontweight='bold')\n",
        "\n",
        "plt.show()\n",
        "\n",
        "# 額外印出數字表格\n",
        "print(\"DeepFace: Positive/Negative Detection Accuracy by Group:\")\n",
        "print(group_binary_accuracy.round(3))"
      ],
      "cell_type": "code",
      "metadata": {
        "colab": {
          "base_uri": "https://localhost:8080/",
          "height": 673
        },
        "id": "76IiqmRIVlU-",
        "outputId": "f2d3ad53-eb33-477c-bf99-c2aef1685aeb"
      },
      "execution_count": null,
      "outputs": [
        {
          "output_type": "display_data",
          "data": {
            "text/plain": [
              "<Figure size 800x600 with 1 Axes>"
            ],
            "image/png": "[encoded data removed]"
          },
          "metadata": {}
        },
        {
          "output_type": "stream",
          "name": "stdout",
          "text": [
            "DeepFace: Positive/Negative Detection Accuracy by Group:\n",
            "group\n",
            "asian        0.911\n",
            "black        0.911\n",
            "caucasian    0.911\n",
            "dtype: float64\n"
          ]
        }
      ]
    },
    {
      "cell_type": "code",
      "source": [
        "import pandas as pd\n",
        "import seaborn as sns\n",
        "import matplotlib.pyplot as plt\n",
        "\n",
        "# 假設 df_deepface 已經透過你的函數處理過，包含 'true_class', 'predicted_class', 'group'\n",
        "\n",
        "# 分族群畫 Heatmap 的函數\n",
        "def plot_group_heatmaps(df, model_name):\n",
        "    groups = df['group'].unique()\n",
        "\n",
        "    for group in groups:\n",
        "        df_group = df[df['group'] == group]\n",
        "\n",
        "        conf_matrix = pd.crosstab(\n",
        "            df_group['true_class'], df_group['predicted_class'], normalize='index'\n",
        "        )\n",
        "\n",
        "        plt.figure(figsize=(5, 4))\n",
        "        sns.heatmap(conf_matrix, annot=True, cmap='coolwarm', fmt='.2f', cbar=True)\n",
        "\n",
        "        plt.title(f'{model_name} Positive/Negative Detection\\nGroup: {group}')\n",
        "        plt.xlabel('Predicted Class')\n",
        "        plt.ylabel('True Class')\n",
        "        plt.show()\n",
        "\n",
        "# 呼叫函數以各族群繪製 Heatmap\n",
        "plot_group_heatmaps(df_deepface, 'DeepFace')\n"
      ],
      "metadata": {
        "colab": {
          "base_uri": "https://localhost:8080/",
          "height": 1000
        },
        "id": "JQeULh-aVurD",
        "outputId": "2919df99-4eee-46f5-db04-9353e65125d8"
      },
      "execution_count": null,
      "outputs": [
        {
          "output_type": "display_data",
          "data": {
            "text/plain": [
              "<Figure size 500x400 with 2 Axes>"
            ],
            "image/png": "[encoded data removed]"
          },
          "metadata": {}
        },
        {
          "output_type": "display_data",
          "data": {
            "text/plain": [
              "<Figure size 500x400 with 2 Axes>"
            ],
            "image/png": "[encoded data removed]"
          },
          "metadata": {}
        },
        {
          "output_type": "display_data",
          "data": {
            "text/plain": [
              "<Figure size 500x400 with 2 Axes>"
            ],
            "image/png": "[encoded data removed]"
          },
          "metadata": {}
        }
      ]
    },
    {
      "cell_type": "code",
      "source": [],
      "metadata": {
        "id": "8tP4hKpiWV9F"
      },
      "execution_count": null,
      "outputs": []
    }
  ]
}